{
 "cells": [
  {
   "cell_type": "markdown",
   "metadata": {},
   "source": [
    "# <center> <b>YAMNet prototype defender of terroristics atacks <center> </b>"
   ]
  },
  {
   "cell_type": "code",
   "execution_count": null,
   "metadata": {},
   "outputs": [],
   "source": [
    "## <center> <b> process data <center> </b>"
   ]
  },
  {
   "cell_type": "code",
   "execution_count": 39,
   "metadata": {},
   "outputs": [],
   "source": [
    "import os\n",
    "\n",
    "from IPython import display\n",
    "import matplotlib.pyplot as plt\n",
    "import numpy as np\n",
    "import pandas as pd\n",
    "\n",
    "import tensorflow as tf\n",
    "import tensorflow_hub as hub\n",
    "import tensorflow_io as tfio"
   ]
  },
  {
   "cell_type": "code",
   "execution_count": 40,
   "metadata": {},
   "outputs": [],
   "source": [
    "yamnet_model_handle = 'https://tfhub.dev/google/yamnet/1'\n",
    "yamnet_model = hub.load(yamnet_model_handle)"
   ]
  },
  {
   "cell_type": "code",
   "execution_count": 41,
   "metadata": {},
   "outputs": [],
   "source": [
    "import tensorflow as tf\n",
    "import tensorflow_io as tfio\n",
    "\n",
    "@tf.function\n",
    "def load_audio_16k_mono(filename):\n",
    "    try:\n",
    "        audio = tfio.audio.decode_mp3(tf.io.read_file(filename))\n",
    "\n",
    "        sample_rate = tf.cast(44100, dtype=tf.int64) # Default MP3 sample rate. Might not always be true!\n",
    "\n",
    "        audio = tfio.audio.resample(audio, rate_in=sample_rate, rate_out=16000)\n",
    "        # Ensure the audio is float32 and normalized to [-1, 1]\n",
    "        # audio = tf.cast(audio, tf.float32) / 32768.0\n",
    "\n",
    "        audio = tf.reduce_mean(audio, axis=1, keepdims=True)\n",
    "        audio = tf.reshape(audio, [-1]) \n",
    "    except:\n",
    "        audio = None\n",
    "    return audio"
   ]
  },
  {
   "cell_type": "code",
   "execution_count": 42,
   "metadata": {},
   "outputs": [
    {
     "name": "stdout",
     "output_type": "stream",
     "text": [
      "WARNING:tensorflow:Using a while_loop for converting IO>AudioResample\n"
     ]
    },
    {
     "name": "stderr",
     "output_type": "stream",
     "text": [
      "WARNING:tensorflow:Using a while_loop for converting IO>AudioResample\n"
     ]
    },
    {
     "name": "stdout",
     "output_type": "stream",
     "text": [
      "WARNING:tensorflow:Using a while_loop for converting IO>AudioResample\n"
     ]
    },
    {
     "name": "stderr",
     "output_type": "stream",
     "text": [
      "WARNING:tensorflow:Using a while_loop for converting IO>AudioResample\n"
     ]
    },
    {
     "name": "stdout",
     "output_type": "stream",
     "text": [
      "WARNING:tensorflow:Using a while_loop for converting IO>AudioResample\n"
     ]
    },
    {
     "name": "stderr",
     "output_type": "stream",
     "text": [
      "WARNING:tensorflow:Using a while_loop for converting IO>AudioResample\n"
     ]
    }
   ],
   "source": [
    "testing_wav_data = []\n",
    "\n",
    "testing_wav_data.append(load_audio_16k_mono(r'Sounds\\samples\\IMG_9658.mp3'))\n",
    "testing_wav_data.append(load_audio_16k_mono(r'Sounds\\samples\\2024-11-19 18-28-18.mp3'))\n",
    "testing_wav_data.append(load_audio_16k_mono(r'Sounds\\samples\\Chiikawa Usagi.mp3'))\n",
    "\n",
    "testing_wav_key = ['Выстрел', 'Другое(бит)', 'Другое(музыка)']"
   ]
  },
  {
   "cell_type": "code",
   "execution_count": 43,
   "metadata": {},
   "outputs": [],
   "source": [
    "import pandas as pd\n",
    "\n",
    "import os\n",
    "\n",
    "data = {'filename' : map(lambda x: 'nuke/'+x,list(filter(lambda x: x.startswith('converted_'), os.listdir('Sounds/nuke/')))[:100]),\n",
    "        'category' : 'Выстрелы',\n",
    "        }\n",
    "\n",
    "data1 = {'filename' : map(lambda x: 'other/'+x,list(filter(lambda x: x.startswith('converted_'), os.listdir('Sounds/other/')))[:100]),\n",
    "        'category' : 'Другие',\n",
    "        }\n",
    "\n",
    "data2 = {'filename' : map(lambda x: 'fireworks/'+x,list(filter(lambda x: x.startswith('converted_'), os.listdir('Sounds/fireworks/')))[:100]),\n",
    "        'category' : 'Фейерверки',\n",
    "        }\n",
    "\n",
    "data3 = {'filename' : map(lambda x: 'concatenate/'+x,list(filter(lambda x: x.startswith('converted_'), os.listdir('Sounds/concatenate/')))[:100]),\n",
    "        'category' : 'Выстрелы',\n",
    "        }\n",
    "\n",
    "base_data_path = './Sounds'\n",
    "\n",
    "def create_folds(df, proportions, random_state):\n",
    "\n",
    "    if not np.isclose(sum(proportions.values()), 1):\n",
    "        raise ValueError(\"Сумма долей должна быть равна 1.\")\n",
    "\n",
    "    np.random.seed(random_state)\n",
    "\n",
    "    n_rows = len(df)\n",
    "    folds = []\n",
    "    start_index = 0\n",
    "    for value, proportion in proportions.items():\n",
    "        n_elements = int(round(n_rows * proportion))\n",
    "        folds.extend([value] * n_elements)\n",
    "        start_index += n_elements\n",
    "\n",
    "    if len(folds) < n_rows:\n",
    "        diff = n_rows - len(folds)\n",
    "        folds.extend([value]*diff)\n",
    "    \n",
    "    np.random.shuffle(folds)\n",
    "\n",
    "    df['folds'] = folds\n",
    "    return df\n",
    "\n",
    "df = pd.DataFrame(data)\n",
    "df1 = pd.DataFrame(data1)\n",
    "df2 = pd.DataFrame(data2)\n",
    "df3 = pd.DataFrame(data3)\n",
    "\n",
    "\n",
    "proportions = {1: 0.70, 2: 0.20, 3: 0.10}\n",
    "df = create_folds(df, proportions, random_state=42)\n",
    "df1 = create_folds(df1, proportions, random_state=42)\n",
    "df2 = create_folds(df2, proportions, random_state=42)\n",
    "df3 = create_folds(df3, proportions, random_state=42)\n",
    "\n",
    "pd_data = pd.concat([df, df1, df2, df3])"
   ]
  },
  {
   "cell_type": "code",
   "execution_count": 44,
   "metadata": {},
   "outputs": [
    {
     "data": {
      "application/vnd.microsoft.datawrangler.viewer.v0+json": {
       "columns": [
        {
         "name": "index",
         "rawType": "int64",
         "type": "integer"
        },
        {
         "name": "filename",
         "rawType": "object",
         "type": "string"
        },
        {
         "name": "category",
         "rawType": "object",
         "type": "string"
        },
        {
         "name": "folds",
         "rawType": "int64",
         "type": "integer"
        },
        {
         "name": "target",
         "rawType": "int64",
         "type": "integer"
        }
       ],
       "conversionMethod": "pd.DataFrame",
       "ref": "f673b1b7-fe2e-474d-9697-de0e9a158ffe",
       "rows": [
        [
         "0",
         "./Sounds\\nuke/converted_nuke_0.mp3",
         "Выстрелы",
         "2",
         "0"
        ],
        [
         "1",
         "./Sounds\\nuke/converted_nuke_1.mp3",
         "Выстрелы",
         "1",
         "0"
        ],
        [
         "2",
         "./Sounds\\nuke/converted_nuke_10.mp3",
         "Выстрелы",
         "2",
         "0"
        ],
        [
         "3",
         "./Sounds\\nuke/converted_nuke_100.mp3",
         "Выстрелы",
         "1",
         "0"
        ],
        [
         "4",
         "./Sounds\\nuke/converted_nuke_101.mp3",
         "Выстрелы",
         "1",
         "0"
        ],
        [
         "5",
         "./Sounds\\nuke/converted_nuke_102.mp3",
         "Выстрелы",
         "1",
         "0"
        ],
        [
         "6",
         "./Sounds\\nuke/converted_nuke_103.mp3",
         "Выстрелы",
         "1",
         "0"
        ],
        [
         "7",
         "./Sounds\\nuke/converted_nuke_104.mp3",
         "Выстрелы",
         "2",
         "0"
        ],
        [
         "8",
         "./Sounds\\nuke/converted_nuke_105.mp3",
         "Выстрелы",
         "1",
         "0"
        ],
        [
         "9",
         "./Sounds\\nuke/converted_nuke_106.mp3",
         "Выстрелы",
         "1",
         "0"
        ]
       ],
       "shape": {
        "columns": 4,
        "rows": 10
       }
      },
      "text/html": [
       "<div>\n",
       "<style scoped>\n",
       "    .dataframe tbody tr th:only-of-type {\n",
       "        vertical-align: middle;\n",
       "    }\n",
       "\n",
       "    .dataframe tbody tr th {\n",
       "        vertical-align: top;\n",
       "    }\n",
       "\n",
       "    .dataframe thead th {\n",
       "        text-align: right;\n",
       "    }\n",
       "</style>\n",
       "<table border=\"1\" class=\"dataframe\">\n",
       "  <thead>\n",
       "    <tr style=\"text-align: right;\">\n",
       "      <th></th>\n",
       "      <th>filename</th>\n",
       "      <th>category</th>\n",
       "      <th>folds</th>\n",
       "      <th>target</th>\n",
       "    </tr>\n",
       "  </thead>\n",
       "  <tbody>\n",
       "    <tr>\n",
       "      <th>0</th>\n",
       "      <td>./Sounds\\nuke/converted_nuke_0.mp3</td>\n",
       "      <td>Выстрелы</td>\n",
       "      <td>2</td>\n",
       "      <td>0</td>\n",
       "    </tr>\n",
       "    <tr>\n",
       "      <th>1</th>\n",
       "      <td>./Sounds\\nuke/converted_nuke_1.mp3</td>\n",
       "      <td>Выстрелы</td>\n",
       "      <td>1</td>\n",
       "      <td>0</td>\n",
       "    </tr>\n",
       "    <tr>\n",
       "      <th>2</th>\n",
       "      <td>./Sounds\\nuke/converted_nuke_10.mp3</td>\n",
       "      <td>Выстрелы</td>\n",
       "      <td>2</td>\n",
       "      <td>0</td>\n",
       "    </tr>\n",
       "    <tr>\n",
       "      <th>3</th>\n",
       "      <td>./Sounds\\nuke/converted_nuke_100.mp3</td>\n",
       "      <td>Выстрелы</td>\n",
       "      <td>1</td>\n",
       "      <td>0</td>\n",
       "    </tr>\n",
       "    <tr>\n",
       "      <th>4</th>\n",
       "      <td>./Sounds\\nuke/converted_nuke_101.mp3</td>\n",
       "      <td>Выстрелы</td>\n",
       "      <td>1</td>\n",
       "      <td>0</td>\n",
       "    </tr>\n",
       "    <tr>\n",
       "      <th>5</th>\n",
       "      <td>./Sounds\\nuke/converted_nuke_102.mp3</td>\n",
       "      <td>Выстрелы</td>\n",
       "      <td>1</td>\n",
       "      <td>0</td>\n",
       "    </tr>\n",
       "    <tr>\n",
       "      <th>6</th>\n",
       "      <td>./Sounds\\nuke/converted_nuke_103.mp3</td>\n",
       "      <td>Выстрелы</td>\n",
       "      <td>1</td>\n",
       "      <td>0</td>\n",
       "    </tr>\n",
       "    <tr>\n",
       "      <th>7</th>\n",
       "      <td>./Sounds\\nuke/converted_nuke_104.mp3</td>\n",
       "      <td>Выстрелы</td>\n",
       "      <td>2</td>\n",
       "      <td>0</td>\n",
       "    </tr>\n",
       "    <tr>\n",
       "      <th>8</th>\n",
       "      <td>./Sounds\\nuke/converted_nuke_105.mp3</td>\n",
       "      <td>Выстрелы</td>\n",
       "      <td>1</td>\n",
       "      <td>0</td>\n",
       "    </tr>\n",
       "    <tr>\n",
       "      <th>9</th>\n",
       "      <td>./Sounds\\nuke/converted_nuke_106.mp3</td>\n",
       "      <td>Выстрелы</td>\n",
       "      <td>1</td>\n",
       "      <td>0</td>\n",
       "    </tr>\n",
       "  </tbody>\n",
       "</table>\n",
       "</div>"
      ],
      "text/plain": [
       "                               filename  category  folds  target\n",
       "0    ./Sounds\\nuke/converted_nuke_0.mp3  Выстрелы      2       0\n",
       "1    ./Sounds\\nuke/converted_nuke_1.mp3  Выстрелы      1       0\n",
       "2   ./Sounds\\nuke/converted_nuke_10.mp3  Выстрелы      2       0\n",
       "3  ./Sounds\\nuke/converted_nuke_100.mp3  Выстрелы      1       0\n",
       "4  ./Sounds\\nuke/converted_nuke_101.mp3  Выстрелы      1       0\n",
       "5  ./Sounds\\nuke/converted_nuke_102.mp3  Выстрелы      1       0\n",
       "6  ./Sounds\\nuke/converted_nuke_103.mp3  Выстрелы      1       0\n",
       "7  ./Sounds\\nuke/converted_nuke_104.mp3  Выстрелы      2       0\n",
       "8  ./Sounds\\nuke/converted_nuke_105.mp3  Выстрелы      1       0\n",
       "9  ./Sounds\\nuke/converted_nuke_106.mp3  Выстрелы      1       0"
      ]
     },
     "execution_count": 44,
     "metadata": {},
     "output_type": "execute_result"
    }
   ],
   "source": [
    "my_classes = ['Выстрелы', 'Другие', 'Фейерверки']\n",
    "map_class_to_id = {'Выстрелы':0, 'Другие':1, 'Фейерверки':2}\n",
    "\n",
    "filtered_pd = pd_data[pd_data.category.isin(my_classes)]\n",
    "\n",
    "class_id = filtered_pd['category'].apply(lambda name: map_class_to_id[name])\n",
    "filtered_pd = filtered_pd.assign(target=class_id)\n",
    "\n",
    "full_path = filtered_pd['filename'].apply(lambda row: os.path.join(base_data_path, row))\n",
    "filtered_pd = filtered_pd.assign(filename=full_path)\n",
    "\n",
    "filtered_pd.head(10)"
   ]
  },
  {
   "cell_type": "code",
   "execution_count": 45,
   "metadata": {},
   "outputs": [
    {
     "data": {
      "text/plain": [
       "(TensorSpec(shape=(), dtype=tf.string, name=None),\n",
       " TensorSpec(shape=(), dtype=tf.int64, name=None),\n",
       " TensorSpec(shape=(), dtype=tf.int64, name=None))"
      ]
     },
     "execution_count": 45,
     "metadata": {},
     "output_type": "execute_result"
    }
   ],
   "source": [
    "filenames = filtered_pd['filename']\n",
    "targets = filtered_pd['target']\n",
    "folds = filtered_pd['folds']\n",
    "\n",
    "main_ds = tf.data.Dataset.from_tensor_slices((filenames, targets, folds))\n",
    "main_ds.element_spec"
   ]
  },
  {
   "cell_type": "code",
   "execution_count": 46,
   "metadata": {},
   "outputs": [
    {
     "name": "stdout",
     "output_type": "stream",
     "text": [
      "WARNING:tensorflow:Using a while_loop for converting IO>AudioResample\n"
     ]
    },
    {
     "name": "stderr",
     "output_type": "stream",
     "text": [
      "WARNING:tensorflow:Using a while_loop for converting IO>AudioResample\n"
     ]
    },
    {
     "data": {
      "text/plain": [
       "(TensorSpec(shape=(None,), dtype=tf.float32, name=None),\n",
       " TensorSpec(shape=(), dtype=tf.int64, name=None),\n",
       " TensorSpec(shape=(), dtype=tf.int64, name=None))"
      ]
     },
     "execution_count": 46,
     "metadata": {},
     "output_type": "execute_result"
    }
   ],
   "source": [
    "def load_wav_for_map(filename, label, fold):\n",
    "    return load_audio_16k_mono(filename), label, fold \n",
    "\n",
    "main_ds = main_ds.map(load_wav_for_map)\n",
    "main_ds.element_spec"
   ]
  },
  {
   "cell_type": "code",
   "execution_count": 47,
   "metadata": {},
   "outputs": [
    {
     "data": {
      "text/plain": [
       "(TensorSpec(shape=(1024,), dtype=tf.float32, name=None),\n",
       " TensorSpec(shape=(), dtype=tf.int64, name=None),\n",
       " TensorSpec(shape=(), dtype=tf.int64, name=None))"
      ]
     },
     "execution_count": 47,
     "metadata": {},
     "output_type": "execute_result"
    }
   ],
   "source": [
    "\n",
    "def extract_embedding(wav_data, label, fold):\n",
    "    scores, embeddings, spectrogram = yamnet_model(wav_data)\n",
    "    num_embeddings = tf.shape(embeddings)[0]\n",
    "    return (embeddings,\n",
    "            tf.repeat(label, num_embeddings),\n",
    "            tf.repeat(fold, num_embeddings))\n",
    "\n",
    "main_ds = main_ds.map(extract_embedding).unbatch()\n",
    "main_ds.element_spec"
   ]
  },
  {
   "cell_type": "code",
   "execution_count": 48,
   "metadata": {},
   "outputs": [],
   "source": [
    "cached_ds = main_ds.cache()\n",
    "train_ds = cached_ds.filter(lambda embedding, label, fold: fold == 1)\n",
    "val_ds = cached_ds.filter(lambda embedding, label, fold: fold == 2)\n",
    "test_ds = cached_ds.filter(lambda embedding, label, fold: fold == 3)\n",
    "\n",
    "remove_fold_column = lambda embedding, label, fold: (embedding, label)\n",
    "\n",
    "train_ds = train_ds.map(remove_fold_column)\n",
    "val_ds = val_ds.map(remove_fold_column)\n",
    "test_ds = test_ds.map(remove_fold_column)\n",
    "\n",
    "train_ds = train_ds.cache().shuffle(20).batch(16).prefetch(tf.data.AUTOTUNE)\n",
    "val_ds = val_ds.cache().batch(16).prefetch(tf.data.AUTOTUNE)\n",
    "test_ds = test_ds.cache().batch(16).prefetch(tf.data.AUTOTUNE)"
   ]
  },
  {
   "cell_type": "markdown",
   "metadata": {},
   "source": [
    "## <center> <b> model <center> </b>"
   ]
  },
  {
   "cell_type": "markdown",
   "metadata": {},
   "source": [
    "#### model"
   ]
  },
  {
   "cell_type": "code",
   "execution_count": 49,
   "metadata": {},
   "outputs": [
    {
     "name": "stdout",
     "output_type": "stream",
     "text": [
      "Model: \"sequential_3\"\n",
      "_________________________________________________________________\n",
      " Layer (type)                Output Shape              Param #   \n",
      "=================================================================\n",
      " dense_6 (Dense)             (None, 512)               524800    \n",
      "                                                                 \n",
      " dense_7 (Dense)             (None, 3)                 1539      \n",
      "                                                                 \n",
      "=================================================================\n",
      "Total params: 526,339\n",
      "Trainable params: 526,339\n",
      "Non-trainable params: 0\n",
      "_________________________________________________________________\n"
     ]
    }
   ],
   "source": [
    "import tensorflow as tf\n",
    "from keras.models import Sequential\n",
    "from keras.layers import Dropout, Flatten, Dense, Input\n",
    "# from tensorflow.keras.mixed_precision import Policy, set_global_policy\n",
    "\n",
    "# policy = Policy('mixed_float16')\n",
    "# set_global_policy(policy)\n",
    "\n",
    "FineTuned = tf.keras.Sequential([\n",
    "    tf.keras.layers.Input(shape=(1024), dtype=tf.float32, name='input_embedding'),\n",
    "    tf.keras.layers.Dense(512, activation='relu'),\n",
    "    tf.keras.layers.Dense(len(my_classes))\n",
    "])\n",
    "\n",
    "\n",
    "FineTuned.summary()"
   ]
  },
  {
   "cell_type": "code",
   "execution_count": 50,
   "metadata": {},
   "outputs": [
    {
     "data": {
      "image/png": "[encoded data removed]",
      "text/plain": [
       "<IPython.core.display.Image object>"
      ]
     },
     "execution_count": 50,
     "metadata": {},
     "output_type": "execute_result"
    }
   ],
   "source": [
    "from keras.utils.vis_utils import plot_model\n",
    "plot_model(FineTuned, r'C:\\My_projects\\nuke\\metrics\\architecture\\YAMNet_finetuned.png', show_shapes=True, show_layer_activations = True)"
   ]
  },
  {
   "cell_type": "code",
   "execution_count": 51,
   "metadata": {},
   "outputs": [],
   "source": [
    "FineTuned.compile(loss=tf.keras.losses.SparseCategoricalCrossentropy(from_logits=True),\n",
    "                    optimizer=\"adam\",\n",
    "                    metrics=['accuracy'])"
   ]
  },
  {
   "cell_type": "code",
   "execution_count": 52,
   "metadata": {},
   "outputs": [
    {
     "name": "stdout",
     "output_type": "stream",
     "text": [
      "Epoch 1/150\n",
      "701/701 [==============================] - 202s 285ms/step - loss: 0.8377 - accuracy: 0.9550 - val_loss: 9.6381 - val_accuracy: 0.1106\n",
      "Epoch 2/150\n",
      "701/701 [==============================] - 4s 5ms/step - loss: 0.6157 - accuracy: 0.9507 - val_loss: 12.4864 - val_accuracy: 0.1106\n",
      "Epoch 3/150\n",
      "701/701 [==============================] - 4s 5ms/step - loss: 0.4632 - accuracy: 0.9519 - val_loss: 11.1928 - val_accuracy: 0.1106\n",
      "Epoch 4/150\n",
      "701/701 [==============================] - 4s 5ms/step - loss: 0.4653 - accuracy: 0.9422 - val_loss: 14.3797 - val_accuracy: 0.1106\n",
      "Epoch 5/150\n",
      "701/701 [==============================] - 4s 5ms/step - loss: 0.6852 - accuracy: 0.9318 - val_loss: 13.8623 - val_accuracy: 0.1106\n",
      "Epoch 6/150\n",
      "701/701 [==============================] - 4s 5ms/step - loss: 0.6423 - accuracy: 0.9330 - val_loss: 17.3519 - val_accuracy: 0.1106\n",
      "Epoch 7/150\n",
      "701/701 [==============================] - 4s 5ms/step - loss: 0.7891 - accuracy: 0.9324 - val_loss: 14.6957 - val_accuracy: 0.1106\n",
      "Epoch 8/150\n",
      "701/701 [==============================] - 4s 5ms/step - loss: 0.7005 - accuracy: 0.9225 - val_loss: 14.8660 - val_accuracy: 0.1105\n",
      "Epoch 9/150\n",
      "701/701 [==============================] - 4s 5ms/step - loss: 0.7977 - accuracy: 0.9166 - val_loss: 15.7264 - val_accuracy: 0.1106\n",
      "Epoch 10/150\n",
      "701/701 [==============================] - 4s 6ms/step - loss: 0.7260 - accuracy: 0.9212 - val_loss: 17.8837 - val_accuracy: 0.1106\n",
      "Epoch 11/150\n",
      "701/701 [==============================] - 4s 5ms/step - loss: 0.6591 - accuracy: 0.9262 - val_loss: 15.7268 - val_accuracy: 0.1106\n",
      "Epoch 12/150\n",
      "701/701 [==============================] - 4s 5ms/step - loss: 0.4672 - accuracy: 0.9309 - val_loss: 18.4961 - val_accuracy: 0.1106\n",
      "Epoch 13/150\n",
      "701/701 [==============================] - 4s 5ms/step - loss: 0.5270 - accuracy: 0.9360 - val_loss: 16.9649 - val_accuracy: 0.1106\n",
      "Epoch 14/150\n",
      "701/701 [==============================] - 3s 5ms/step - loss: 0.4479 - accuracy: 0.9465 - val_loss: 18.2549 - val_accuracy: 0.1106\n",
      "Epoch 15/150\n",
      "701/701 [==============================] - 4s 6ms/step - loss: 0.3460 - accuracy: 0.9382 - val_loss: 14.0971 - val_accuracy: 0.1106\n",
      "Epoch 16/150\n",
      "701/701 [==============================] - 4s 5ms/step - loss: 0.3718 - accuracy: 0.9409 - val_loss: 14.2378 - val_accuracy: 0.1107\n",
      "Epoch 17/150\n",
      "701/701 [==============================] - 4s 5ms/step - loss: 0.5534 - accuracy: 0.9294 - val_loss: 15.1586 - val_accuracy: 0.1105\n",
      "Epoch 18/150\n",
      "701/701 [==============================] - 4s 5ms/step - loss: 0.5113 - accuracy: 0.9378 - val_loss: 15.2453 - val_accuracy: 0.1107\n",
      "Epoch 19/150\n",
      "701/701 [==============================] - 4s 5ms/step - loss: 0.5980 - accuracy: 0.9304 - val_loss: 14.1308 - val_accuracy: 0.1107\n",
      "Epoch 20/150\n",
      "701/701 [==============================] - 4s 5ms/step - loss: 0.4366 - accuracy: 0.9422 - val_loss: 16.6039 - val_accuracy: 0.1103\n",
      "Epoch 21/150\n",
      "701/701 [==============================] - 4s 6ms/step - loss: 0.4092 - accuracy: 0.9360 - val_loss: 16.2611 - val_accuracy: 0.1105\n",
      "Epoch 22/150\n",
      "701/701 [==============================] - 4s 5ms/step - loss: 0.4389 - accuracy: 0.9293 - val_loss: 15.4665 - val_accuracy: 0.1113\n",
      "Epoch 23/150\n",
      "701/701 [==============================] - 4s 5ms/step - loss: 0.3829 - accuracy: 0.9210 - val_loss: 12.5042 - val_accuracy: 0.1149\n",
      "Epoch 24/150\n",
      "701/701 [==============================] - 4s 5ms/step - loss: 0.5317 - accuracy: 0.9329 - val_loss: 13.8072 - val_accuracy: 0.1115\n",
      "Epoch 25/150\n",
      "701/701 [==============================] - 4s 5ms/step - loss: 0.4373 - accuracy: 0.9397 - val_loss: 17.4441 - val_accuracy: 0.1113\n",
      "Epoch 26/150\n",
      "701/701 [==============================] - 4s 5ms/step - loss: 0.6354 - accuracy: 0.9410 - val_loss: 14.9062 - val_accuracy: 0.1140\n",
      "Epoch 27/150\n",
      "701/701 [==============================] - 4s 5ms/step - loss: 0.3893 - accuracy: 0.9380 - val_loss: 14.0731 - val_accuracy: 0.1183\n",
      "Epoch 28/150\n",
      "701/701 [==============================] - 4s 6ms/step - loss: 0.3894 - accuracy: 0.9360 - val_loss: 12.4787 - val_accuracy: 0.1196\n",
      "Epoch 29/150\n",
      "701/701 [==============================] - 4s 5ms/step - loss: 0.3266 - accuracy: 0.9378 - val_loss: 13.9246 - val_accuracy: 0.1157\n",
      "Epoch 30/150\n",
      "701/701 [==============================] - 3s 5ms/step - loss: 0.3728 - accuracy: 0.9416 - val_loss: 14.3874 - val_accuracy: 0.1215\n",
      "Epoch 31/150\n",
      "701/701 [==============================] - 3s 5ms/step - loss: 0.3875 - accuracy: 0.9327 - val_loss: 13.4002 - val_accuracy: 0.1329\n",
      "Epoch 32/150\n",
      "701/701 [==============================] - 4s 5ms/step - loss: 0.3194 - accuracy: 0.9488 - val_loss: 13.9614 - val_accuracy: 0.1228\n",
      "Epoch 33/150\n",
      "701/701 [==============================] - 4s 5ms/step - loss: 0.4953 - accuracy: 0.9507 - val_loss: 13.5746 - val_accuracy: 0.1257\n",
      "Epoch 34/150\n",
      "701/701 [==============================] - 4s 5ms/step - loss: 0.3643 - accuracy: 0.9531 - val_loss: 12.4663 - val_accuracy: 0.1342\n",
      "Epoch 35/150\n",
      "701/701 [==============================] - 4s 5ms/step - loss: 0.2257 - accuracy: 0.9366 - val_loss: 14.9706 - val_accuracy: 0.1240\n",
      "Epoch 36/150\n",
      "701/701 [==============================] - 4s 5ms/step - loss: 0.2506 - accuracy: 0.9344 - val_loss: 14.5583 - val_accuracy: 0.1303\n",
      "Epoch 37/150\n",
      "701/701 [==============================] - 4s 5ms/step - loss: 0.2913 - accuracy: 0.9676 - val_loss: 12.3618 - val_accuracy: 0.1360\n",
      "Epoch 38/150\n",
      "701/701 [==============================] - 4s 5ms/step - loss: 0.1950 - accuracy: 0.9440 - val_loss: 12.0575 - val_accuracy: 0.1557\n",
      "Epoch 39/150\n",
      "701/701 [==============================] - 4s 5ms/step - loss: 0.2032 - accuracy: 0.9349 - val_loss: 10.6896 - val_accuracy: 0.1663\n",
      "Epoch 40/150\n",
      "701/701 [==============================] - 4s 5ms/step - loss: 0.3555 - accuracy: 0.9601 - val_loss: 11.1467 - val_accuracy: 0.1532\n",
      "Epoch 41/150\n",
      "701/701 [==============================] - 4s 5ms/step - loss: 0.1936 - accuracy: 0.9400 - val_loss: 11.5244 - val_accuracy: 0.1610\n",
      "Epoch 42/150\n",
      "701/701 [==============================] - 4s 5ms/step - loss: 0.2815 - accuracy: 0.9501 - val_loss: 10.7163 - val_accuracy: 0.1754\n",
      "Epoch 43/150\n",
      "701/701 [==============================] - 3s 5ms/step - loss: 0.1804 - accuracy: 0.9431 - val_loss: 11.3893 - val_accuracy: 0.1691\n",
      "Epoch 44/150\n",
      "701/701 [==============================] - 3s 5ms/step - loss: 0.2157 - accuracy: 0.9466 - val_loss: 11.5186 - val_accuracy: 0.1818\n",
      "Epoch 45/150\n",
      "701/701 [==============================] - 4s 5ms/step - loss: 0.2440 - accuracy: 0.9410 - val_loss: 9.6728 - val_accuracy: 0.1853\n",
      "Epoch 46/150\n",
      "701/701 [==============================] - 4s 5ms/step - loss: 0.2707 - accuracy: 0.9546 - val_loss: 12.4418 - val_accuracy: 0.1598\n",
      "Epoch 47/150\n",
      "701/701 [==============================] - 4s 5ms/step - loss: 0.2409 - accuracy: 0.9511 - val_loss: 11.8306 - val_accuracy: 0.1649\n",
      "Epoch 48/150\n",
      "701/701 [==============================] - 4s 5ms/step - loss: 0.2302 - accuracy: 0.9401 - val_loss: 10.4429 - val_accuracy: 0.1867\n",
      "Epoch 49/150\n",
      "701/701 [==============================] - 4s 5ms/step - loss: 0.2316 - accuracy: 0.9588 - val_loss: 11.1427 - val_accuracy: 0.1879\n",
      "Epoch 50/150\n",
      "701/701 [==============================] - 4s 5ms/step - loss: 0.2371 - accuracy: 0.9569 - val_loss: 10.9344 - val_accuracy: 0.1974\n",
      "Epoch 51/150\n",
      "701/701 [==============================] - 4s 6ms/step - loss: 0.1159 - accuracy: 0.9438 - val_loss: 10.6918 - val_accuracy: 0.1974\n",
      "Epoch 52/150\n",
      "701/701 [==============================] - 3s 5ms/step - loss: 0.2340 - accuracy: 0.9547 - val_loss: 9.8850 - val_accuracy: 0.2294\n",
      "Epoch 53/150\n",
      "701/701 [==============================] - 4s 6ms/step - loss: 0.2772 - accuracy: 0.9465 - val_loss: 11.4853 - val_accuracy: 0.2186\n",
      "Epoch 54/150\n",
      "701/701 [==============================] - 4s 6ms/step - loss: 0.1730 - accuracy: 0.9419 - val_loss: 13.7220 - val_accuracy: 0.1459\n",
      "Epoch 55/150\n",
      "701/701 [==============================] - 4s 5ms/step - loss: 0.2940 - accuracy: 0.9446 - val_loss: 15.4164 - val_accuracy: 0.1544\n",
      "Epoch 56/150\n",
      "701/701 [==============================] - 4s 5ms/step - loss: 0.3548 - accuracy: 0.9379 - val_loss: 13.0462 - val_accuracy: 0.2056\n",
      "Epoch 57/150\n",
      "701/701 [==============================] - 4s 5ms/step - loss: 0.1863 - accuracy: 0.9423 - val_loss: 11.0688 - val_accuracy: 0.2241\n",
      "Epoch 58/150\n",
      "701/701 [==============================] - 4s 5ms/step - loss: 0.1624 - accuracy: 0.9401 - val_loss: 10.6981 - val_accuracy: 0.2362\n",
      "Epoch 59/150\n",
      "701/701 [==============================] - 4s 5ms/step - loss: 0.2264 - accuracy: 0.9411 - val_loss: 9.7576 - val_accuracy: 0.2752\n",
      "Epoch 60/150\n",
      "701/701 [==============================] - 4s 5ms/step - loss: 0.1235 - accuracy: 0.9418 - val_loss: 10.1631 - val_accuracy: 0.2713\n",
      "Epoch 61/150\n",
      "701/701 [==============================] - 3s 5ms/step - loss: 0.1414 - accuracy: 0.9500 - val_loss: 8.3509 - val_accuracy: 0.3088\n",
      "Epoch 62/150\n",
      "701/701 [==============================] - 3s 5ms/step - loss: 0.1474 - accuracy: 0.9467 - val_loss: 7.8925 - val_accuracy: 0.3211\n",
      "Epoch 63/150\n",
      "701/701 [==============================] - 3s 5ms/step - loss: 0.2950 - accuracy: 0.9493 - val_loss: 10.0085 - val_accuracy: 0.2547\n",
      "Epoch 64/150\n",
      "701/701 [==============================] - 3s 5ms/step - loss: 0.1918 - accuracy: 0.9506 - val_loss: 8.0476 - val_accuracy: 0.3233\n",
      "Epoch 65/150\n",
      "701/701 [==============================] - 4s 5ms/step - loss: 0.1275 - accuracy: 0.9557 - val_loss: 7.7957 - val_accuracy: 0.3364\n",
      "Epoch 66/150\n",
      "701/701 [==============================] - 4s 5ms/step - loss: 0.1209 - accuracy: 0.9558 - val_loss: 8.1060 - val_accuracy: 0.3253\n",
      "Epoch 67/150\n",
      "701/701 [==============================] - 3s 5ms/step - loss: 0.1588 - accuracy: 0.9474 - val_loss: 10.7952 - val_accuracy: 0.2344\n",
      "Epoch 68/150\n",
      "701/701 [==============================] - 3s 5ms/step - loss: 0.2127 - accuracy: 0.9526 - val_loss: 13.0506 - val_accuracy: 0.2110\n",
      "Epoch 69/150\n",
      "701/701 [==============================] - 3s 5ms/step - loss: 0.1783 - accuracy: 0.9446 - val_loss: 14.1803 - val_accuracy: 0.2072\n",
      "Epoch 70/150\n",
      "701/701 [==============================] - 3s 5ms/step - loss: 0.2024 - accuracy: 0.9484 - val_loss: 13.0944 - val_accuracy: 0.1835\n",
      "Epoch 71/150\n",
      "701/701 [==============================] - 3s 5ms/step - loss: 0.3032 - accuracy: 0.9631 - val_loss: 10.8298 - val_accuracy: 0.2744\n",
      "Epoch 72/150\n",
      "701/701 [==============================] - 3s 5ms/step - loss: 0.1526 - accuracy: 0.9554 - val_loss: 9.7443 - val_accuracy: 0.2904\n",
      "Epoch 73/150\n",
      "701/701 [==============================] - 4s 5ms/step - loss: 0.1341 - accuracy: 0.9557 - val_loss: 8.8928 - val_accuracy: 0.3199\n",
      "Epoch 74/150\n",
      "701/701 [==============================] - 3s 5ms/step - loss: 0.1254 - accuracy: 0.9525 - val_loss: 9.2101 - val_accuracy: 0.3028\n",
      "Epoch 75/150\n",
      "701/701 [==============================] - 3s 5ms/step - loss: 0.1902 - accuracy: 0.9195 - val_loss: 11.7048 - val_accuracy: 0.2713\n",
      "Epoch 76/150\n",
      "701/701 [==============================] - 4s 5ms/step - loss: 0.1370 - accuracy: 0.9359 - val_loss: 12.2550 - val_accuracy: 0.2451\n",
      "Epoch 77/150\n",
      "701/701 [==============================] - 3s 5ms/step - loss: 0.2461 - accuracy: 0.9580 - val_loss: 9.8574 - val_accuracy: 0.3320\n",
      "Epoch 78/150\n",
      "701/701 [==============================] - 4s 5ms/step - loss: 0.1646 - accuracy: 0.9587 - val_loss: 9.7187 - val_accuracy: 0.3157\n",
      "Epoch 79/150\n",
      "701/701 [==============================] - 4s 5ms/step - loss: 0.1427 - accuracy: 0.9371 - val_loss: 8.9172 - val_accuracy: 0.3360\n",
      "Epoch 80/150\n",
      "701/701 [==============================] - 4s 5ms/step - loss: 0.2575 - accuracy: 0.9388 - val_loss: 8.7303 - val_accuracy: 0.3354\n",
      "Epoch 81/150\n",
      "701/701 [==============================] - 4s 5ms/step - loss: 0.1700 - accuracy: 0.9521 - val_loss: 10.2266 - val_accuracy: 0.3059\n",
      "Epoch 82/150\n",
      "701/701 [==============================] - 4s 5ms/step - loss: 0.1494 - accuracy: 0.9624 - val_loss: 11.6523 - val_accuracy: 0.2744\n",
      "Epoch 83/150\n",
      "701/701 [==============================] - 4s 6ms/step - loss: 0.1306 - accuracy: 0.9572 - val_loss: 8.4581 - val_accuracy: 0.3605\n",
      "Epoch 84/150\n",
      "701/701 [==============================] - 4s 6ms/step - loss: 0.1844 - accuracy: 0.9627 - val_loss: 11.1528 - val_accuracy: 0.3346\n",
      "Epoch 85/150\n",
      "701/701 [==============================] - 4s 5ms/step - loss: 0.1634 - accuracy: 0.9706 - val_loss: 8.6529 - val_accuracy: 0.3792\n",
      "Epoch 86/150\n",
      "701/701 [==============================] - 4s 5ms/step - loss: 0.1038 - accuracy: 0.9650 - val_loss: 9.3562 - val_accuracy: 0.3744\n",
      "Epoch 87/150\n",
      "701/701 [==============================] - 4s 5ms/step - loss: 0.1128 - accuracy: 0.9699 - val_loss: 11.3132 - val_accuracy: 0.2874\n",
      "Epoch 88/150\n",
      "701/701 [==============================] - 3s 5ms/step - loss: 0.1107 - accuracy: 0.9634 - val_loss: 8.9935 - val_accuracy: 0.3491\n",
      "Epoch 89/150\n",
      "701/701 [==============================] - 4s 5ms/step - loss: 0.1403 - accuracy: 0.9521 - val_loss: 9.6843 - val_accuracy: 0.3465\n",
      "Epoch 90/150\n",
      "701/701 [==============================] - 4s 5ms/step - loss: 0.1776 - accuracy: 0.9608 - val_loss: 8.5447 - val_accuracy: 0.3869\n",
      "Epoch 91/150\n",
      "701/701 [==============================] - 3s 5ms/step - loss: 0.0853 - accuracy: 0.9674 - val_loss: 9.0901 - val_accuracy: 0.3963\n",
      "Epoch 92/150\n",
      "701/701 [==============================] - 3s 5ms/step - loss: 0.1914 - accuracy: 0.9606 - val_loss: 8.8439 - val_accuracy: 0.3800\n",
      "Epoch 93/150\n",
      "701/701 [==============================] - 3s 5ms/step - loss: 0.2326 - accuracy: 0.9603 - val_loss: 11.9001 - val_accuracy: 0.3067\n",
      "Epoch 94/150\n",
      "701/701 [==============================] - 4s 5ms/step - loss: 0.1358 - accuracy: 0.9585 - val_loss: 11.8203 - val_accuracy: 0.3309\n",
      "Epoch 95/150\n",
      "701/701 [==============================] - 4s 5ms/step - loss: 0.1574 - accuracy: 0.9646 - val_loss: 9.5130 - val_accuracy: 0.3783\n",
      "Epoch 96/150\n",
      "701/701 [==============================] - 4s 5ms/step - loss: 0.1620 - accuracy: 0.9632 - val_loss: 9.1636 - val_accuracy: 0.4067\n",
      "Epoch 97/150\n",
      "701/701 [==============================] - 4s 5ms/step - loss: 0.1253 - accuracy: 0.9633 - val_loss: 9.0003 - val_accuracy: 0.3952\n",
      "Epoch 98/150\n",
      "701/701 [==============================] - 4s 5ms/step - loss: 0.0991 - accuracy: 0.9599 - val_loss: 9.7768 - val_accuracy: 0.3729\n",
      "Epoch 99/150\n",
      "701/701 [==============================] - 4s 6ms/step - loss: 0.0840 - accuracy: 0.9673 - val_loss: 10.3748 - val_accuracy: 0.3801\n",
      "Epoch 100/150\n",
      "701/701 [==============================] - 4s 6ms/step - loss: 0.0990 - accuracy: 0.9672 - val_loss: 8.4223 - val_accuracy: 0.4322\n",
      "Epoch 101/150\n",
      "701/701 [==============================] - 4s 5ms/step - loss: 0.0848 - accuracy: 0.9656 - val_loss: 11.1183 - val_accuracy: 0.3636\n",
      "Epoch 102/150\n",
      "701/701 [==============================] - 4s 5ms/step - loss: 0.0964 - accuracy: 0.9677 - val_loss: 9.6340 - val_accuracy: 0.4252\n",
      "Epoch 103/150\n",
      "701/701 [==============================] - 3s 5ms/step - loss: 0.1311 - accuracy: 0.9671 - val_loss: 9.0802 - val_accuracy: 0.4197\n",
      "Epoch 104/150\n",
      "701/701 [==============================] - 4s 5ms/step - loss: 0.0946 - accuracy: 0.9654 - val_loss: 10.9614 - val_accuracy: 0.3668\n",
      "Epoch 105/150\n",
      "701/701 [==============================] - 3s 5ms/step - loss: 0.1333 - accuracy: 0.9590 - val_loss: 9.9330 - val_accuracy: 0.3912\n",
      "Epoch 106/150\n",
      "701/701 [==============================] - 3s 5ms/step - loss: 0.0838 - accuracy: 0.9655 - val_loss: 10.0288 - val_accuracy: 0.4159\n",
      "Epoch 107/150\n",
      "701/701 [==============================] - 4s 5ms/step - loss: 0.1005 - accuracy: 0.9631 - val_loss: 8.9236 - val_accuracy: 0.4370\n",
      "Epoch 108/150\n",
      "701/701 [==============================] - 3s 5ms/step - loss: 0.0811 - accuracy: 0.9683 - val_loss: 9.6950 - val_accuracy: 0.4275\n",
      "Epoch 109/150\n",
      "701/701 [==============================] - 3s 5ms/step - loss: 0.1644 - accuracy: 0.9731 - val_loss: 10.7355 - val_accuracy: 0.3939\n",
      "Epoch 110/150\n",
      "701/701 [==============================] - 4s 6ms/step - loss: 0.1222 - accuracy: 0.9666 - val_loss: 9.5602 - val_accuracy: 0.4185\n",
      "Epoch 111/150\n",
      "701/701 [==============================] - 4s 5ms/step - loss: 0.1263 - accuracy: 0.9620 - val_loss: 9.2878 - val_accuracy: 0.4243\n",
      "Epoch 112/150\n",
      "701/701 [==============================] - 4s 5ms/step - loss: 0.1287 - accuracy: 0.9650 - val_loss: 11.0314 - val_accuracy: 0.3795\n",
      "Epoch 113/150\n",
      "701/701 [==============================] - 4s 6ms/step - loss: 0.0918 - accuracy: 0.9613 - val_loss: 9.8170 - val_accuracy: 0.4237\n",
      "Epoch 114/150\n",
      "701/701 [==============================] - 4s 6ms/step - loss: 0.0837 - accuracy: 0.9669 - val_loss: 8.4490 - val_accuracy: 0.4702\n",
      "Epoch 115/150\n",
      "701/701 [==============================] - 4s 6ms/step - loss: 0.0744 - accuracy: 0.9723 - val_loss: 9.1455 - val_accuracy: 0.4562\n",
      "Epoch 116/150\n",
      "701/701 [==============================] - 4s 6ms/step - loss: 0.0807 - accuracy: 0.9699 - val_loss: 9.0123 - val_accuracy: 0.4629\n",
      "Epoch 117/150\n",
      "701/701 [==============================] - 4s 5ms/step - loss: 0.0924 - accuracy: 0.9635 - val_loss: 10.5812 - val_accuracy: 0.4107\n",
      "Epoch 118/150\n",
      "701/701 [==============================] - 4s 6ms/step - loss: 0.0855 - accuracy: 0.9689 - val_loss: 10.9960 - val_accuracy: 0.3809\n",
      "Epoch 119/150\n",
      "701/701 [==============================] - 4s 5ms/step - loss: 0.1052 - accuracy: 0.9611 - val_loss: 9.5237 - val_accuracy: 0.4210\n",
      "Epoch 120/150\n",
      "701/701 [==============================] - 4s 5ms/step - loss: 0.0978 - accuracy: 0.9657 - val_loss: 8.8646 - val_accuracy: 0.4598\n",
      "Epoch 121/150\n",
      "701/701 [==============================] - 4s 5ms/step - loss: 0.0934 - accuracy: 0.9651 - val_loss: 9.7219 - val_accuracy: 0.4364\n",
      "Epoch 122/150\n",
      "701/701 [==============================] - 4s 5ms/step - loss: 0.0787 - accuracy: 0.9695 - val_loss: 9.1412 - val_accuracy: 0.4632\n",
      "Epoch 123/150\n",
      "701/701 [==============================] - 4s 5ms/step - loss: 0.0886 - accuracy: 0.9758 - val_loss: 8.7064 - val_accuracy: 0.4739\n",
      "Epoch 124/150\n",
      "701/701 [==============================] - 4s 6ms/step - loss: 0.0902 - accuracy: 0.9684 - val_loss: 10.6974 - val_accuracy: 0.4383\n",
      "Epoch 125/150\n",
      "701/701 [==============================] - 4s 6ms/step - loss: 0.1619 - accuracy: 0.9616 - val_loss: 8.2383 - val_accuracy: 0.4956\n",
      "Epoch 126/150\n",
      "701/701 [==============================] - 4s 6ms/step - loss: 0.0801 - accuracy: 0.9671 - val_loss: 10.4820 - val_accuracy: 0.4272\n",
      "Epoch 127/150\n",
      "701/701 [==============================] - 4s 6ms/step - loss: 0.0757 - accuracy: 0.9696 - val_loss: 10.3825 - val_accuracy: 0.4369\n",
      "Epoch 128/150\n",
      "701/701 [==============================] - 3s 5ms/step - loss: 0.0707 - accuracy: 0.9702 - val_loss: 10.0683 - val_accuracy: 0.4500\n",
      "Epoch 129/150\n",
      "701/701 [==============================] - 13s 18ms/step - loss: 0.1624 - accuracy: 0.9637 - val_loss: 15.2072 - val_accuracy: 0.3195\n",
      "Epoch 130/150\n",
      "701/701 [==============================] - 6s 8ms/step - loss: 0.1073 - accuracy: 0.9659 - val_loss: 10.6205 - val_accuracy: 0.4127\n",
      "Epoch 131/150\n",
      "701/701 [==============================] - 3s 4ms/step - loss: 0.2201 - accuracy: 0.9740 - val_loss: 10.0463 - val_accuracy: 0.4362\n",
      "Epoch 132/150\n",
      "701/701 [==============================] - 3s 4ms/step - loss: 0.0905 - accuracy: 0.9665 - val_loss: 10.0698 - val_accuracy: 0.4430\n",
      "Epoch 133/150\n",
      "701/701 [==============================] - 3s 5ms/step - loss: 0.0914 - accuracy: 0.9713 - val_loss: 9.2694 - val_accuracy: 0.4888\n",
      "Epoch 134/150\n",
      "701/701 [==============================] - 4s 5ms/step - loss: 0.0830 - accuracy: 0.9679 - val_loss: 9.0321 - val_accuracy: 0.4848\n",
      "Epoch 135/150\n",
      "701/701 [==============================] - 4s 5ms/step - loss: 0.0945 - accuracy: 0.9643 - val_loss: 8.2103 - val_accuracy: 0.5185\n",
      "Epoch 136/150\n",
      "701/701 [==============================] - 4s 6ms/step - loss: 0.1139 - accuracy: 0.9703 - val_loss: 8.7608 - val_accuracy: 0.4923\n",
      "Epoch 137/150\n",
      "701/701 [==============================] - 4s 6ms/step - loss: 0.0874 - accuracy: 0.9657 - val_loss: 7.8910 - val_accuracy: 0.5252\n",
      "Epoch 138/150\n",
      "701/701 [==============================] - 4s 6ms/step - loss: 0.1012 - accuracy: 0.9666 - val_loss: 10.0850 - val_accuracy: 0.4725\n",
      "Epoch 139/150\n",
      "701/701 [==============================] - 4s 6ms/step - loss: 0.2559 - accuracy: 0.9679 - val_loss: 11.1132 - val_accuracy: 0.4575\n",
      "Epoch 140/150\n",
      "701/701 [==============================] - 4s 5ms/step - loss: 0.1424 - accuracy: 0.9648 - val_loss: 8.7362 - val_accuracy: 0.4944\n",
      "Epoch 141/150\n",
      "701/701 [==============================] - 4s 6ms/step - loss: 0.1272 - accuracy: 0.9665 - val_loss: 8.6158 - val_accuracy: 0.4971\n",
      "Epoch 142/150\n",
      "701/701 [==============================] - 5s 6ms/step - loss: 0.1016 - accuracy: 0.9621 - val_loss: 9.7098 - val_accuracy: 0.4684\n",
      "Epoch 143/150\n",
      "701/701 [==============================] - 4s 6ms/step - loss: 0.0921 - accuracy: 0.9653 - val_loss: 8.2973 - val_accuracy: 0.5156\n",
      "Epoch 144/150\n",
      "701/701 [==============================] - 5s 7ms/step - loss: 0.1047 - accuracy: 0.9638 - val_loss: 7.9560 - val_accuracy: 0.5302\n",
      "Epoch 145/150\n",
      "701/701 [==============================] - 9s 13ms/step - loss: 0.0989 - accuracy: 0.9623 - val_loss: 7.8562 - val_accuracy: 0.5226\n",
      "Epoch 146/150\n",
      "701/701 [==============================] - 7s 9ms/step - loss: 0.0958 - accuracy: 0.9641 - val_loss: 8.7342 - val_accuracy: 0.5203\n",
      "Epoch 147/150\n",
      "701/701 [==============================] - 9s 12ms/step - loss: 0.0977 - accuracy: 0.9686 - val_loss: 8.1293 - val_accuracy: 0.5388\n",
      "Epoch 148/150\n",
      "701/701 [==============================] - 5s 7ms/step - loss: 0.1194 - accuracy: 0.9691 - val_loss: 8.1353 - val_accuracy: 0.5477\n",
      "Epoch 149/150\n",
      "701/701 [==============================] - 3s 4ms/step - loss: 0.0839 - accuracy: 0.9683 - val_loss: 7.9573 - val_accuracy: 0.5420\n",
      "Epoch 150/150\n",
      "701/701 [==============================] - 5s 8ms/step - loss: 0.1060 - accuracy: 0.9645 - val_loss: 8.3800 - val_accuracy: 0.5255\n"
     ]
    }
   ],
   "source": [
    "hist = FineTuned.fit(train_ds,\n",
    "                        epochs=150,\n",
    "                        validation_data=val_ds,\n",
    "                        # callbacks=callback\n",
    "                        )"
   ]
  },
  {
   "cell_type": "code",
   "execution_count": 53,
   "metadata": {},
   "outputs": [],
   "source": [
    "class ReduceMeanLayer(tf.keras.layers.Layer):\n",
    "    def __init__(self, axis=0, **kwargs):\n",
    "        super(ReduceMeanLayer, self).__init__(**kwargs)\n",
    "        self.axis = axis\n",
    "\n",
    "    def call(self, input):\n",
    "        return tf.math.reduce_mean(input, axis=self.axis)"
   ]
  },
  {
   "cell_type": "code",
   "execution_count": 54,
   "metadata": {},
   "outputs": [
    {
     "name": "stdout",
     "output_type": "stream",
     "text": [
      "WARNING:tensorflow:Compiled the loaded model, but the compiled metrics have yet to be built. `model.compile_metrics` will be empty until you train or evaluate the model.\n"
     ]
    },
    {
     "name": "stderr",
     "output_type": "stream",
     "text": [
      "WARNING:tensorflow:Compiled the loaded model, but the compiled metrics have yet to be built. `model.compile_metrics` will be empty until you train or evaluate the model.\n"
     ]
    },
    {
     "name": "stdout",
     "output_type": "stream",
     "text": [
      "INFO:tensorflow:Assets written to: ./models/yamnet_funetened\\assets\n"
     ]
    },
    {
     "name": "stderr",
     "output_type": "stream",
     "text": [
      "INFO:tensorflow:Assets written to: ./models/yamnet_funetened\\assets\n"
     ]
    }
   ],
   "source": [
    "saved_model_path = './models/yamnet_funetened'\n",
    "\n",
    "input_segment = tf.keras.layers.Input(shape=(), dtype=tf.float32, name='audio')\n",
    "embedding_extraction_layer = hub.KerasLayer(yamnet_model_handle,\n",
    "                                            trainable=False, name='yamnet')\n",
    "_, embeddings_output, _ = embedding_extraction_layer(input_segment)\n",
    "serving_outputs = FineTuned(embeddings_output)\n",
    "serving_outputs = ReduceMeanLayer(axis=0, name='classifier')(serving_outputs)\n",
    "serving_model = tf.keras.Model(input_segment, serving_outputs)\n",
    "serving_model.save(saved_model_path, include_optimizer=False)"
   ]
  },
  {
   "cell_type": "markdown",
   "metadata": {},
   "source": [
    "#### test"
   ]
  },
  {
   "cell_type": "code",
   "execution_count": 55,
   "metadata": {},
   "outputs": [
    {
     "name": "stdout",
     "output_type": "stream",
     "text": [
      "Предсказанный класс: Выстрелы, реальный класс Выстрел\n",
      "Предсказанный класс: Выстрелы, реальный класс Другое(бит)\n",
      "Предсказанный класс: Другие, реальный класс Другое(музыка)\n"
     ]
    }
   ],
   "source": [
    "for i in range(len(testing_wav_data)):\n",
    "    scores, embeddings, spectrogram = yamnet_model(testing_wav_data[i])\n",
    "    result = FineTuned(embeddings).numpy()\n",
    "\n",
    "    inferred_class = my_classes[result.mean(axis=0).argmax()]\n",
    "    print(f'Предсказанный класс: {inferred_class}, реальный класс {testing_wav_key[i]}')"
   ]
  },
  {
   "cell_type": "markdown",
   "metadata": {},
   "source": [
    "#### visualize"
   ]
  },
  {
   "cell_type": "code",
   "execution_count": 56,
   "metadata": {},
   "outputs": [
    {
     "data": {
      "image/png": "[encoded data removed]",
      "text/plain": [
       "<Figure size 1500x500 with 2 Axes>"
      ]
     },
     "metadata": {},
     "output_type": "display_data"
    }
   ],
   "source": [
    "acc_plot = hist.history['accuracy']\n",
    "ls_plot = hist.history['loss']\n",
    "\n",
    "val_acc_plot = hist.history['val_accuracy']\n",
    "\n",
    "val_ls_plot = hist.history['val_loss']\n",
    "epochs = list(range(1, len(acc_plot) + 1))\n",
    "\n",
    "plt.figure(figsize=(15, 5))\n",
    "plt.subplot(1, 2, 1)\n",
    "plt.plot(epochs, acc_plot, '-', label='Обучающая выборка')\n",
    "plt.plot(epochs, val_acc_plot, ':', label='Валидация')\n",
    "plt.title('График точности обучения на обучающей и валидационной выборке')\n",
    "plt.xlabel('Эпохи')\n",
    "plt.ylabel('Accuracy')\n",
    "plt.legend(loc='lower right')\n",
    "plt.grid(True, color='gray', alpha = 0.25, linestyle='--')\n",
    "plt.tight_layout()\n",
    "\n",
    "# plt.figure(figsize=(10, 5))\n",
    "plt.subplot(1, 2, 2)\n",
    "plt.plot(epochs, ls_plot, '-', label='Обучающая выборка')\n",
    "plt.plot(epochs, val_ls_plot, ':', label='Валидация')\n",
    "plt.title('График ошибок обучения на обучающей и валлидационной выборке')\n",
    "plt.xlabel('Эпохи')\n",
    "plt.ylabel('Loss')\n",
    "plt.legend(loc='upper right')\n",
    "plt.grid(True, color='gray', alpha = 0.25, linestyle='--')\n",
    "plt.tight_layout()\n",
    "plt.savefig(r'C:\\My_projects\\nuke\\metrics\\matplot\\YAMNet_metrics_accuracy_and_loss.png')\n",
    "plt.show()"
   ]
  },
  {
   "cell_type": "code",
   "execution_count": 57,
   "metadata": {},
   "outputs": [
    {
     "data": {
      "application/vnd.plotly.v1+json": {
       "config": {
        "plotlyServerURL": "https://plot.ly"
       },
       "data": [
        {
         "hovertemplate": "Epoch: %{x}<br>Value: %{y}",
         "legendgroup": "<b>Training</b>",
         "line": {
          "color": "#636efb",
          "shape": "spline",
          "smoothing": 0.8
         },
         "marker": {
          "color": "#636efb"
         },
         "mode": "markers+lines",
         "name": "<b>Training</b>",
         "type": "scatter",
         "x": [
          1,
          2,
          3,
          4,
          5,
          6,
          7,
          8,
          9,
          10,
          11,
          12,
          13,
          14,
          15,
          16,
          17,
          18,
          19,
          20,
          21,
          22,
          23,
          24,
          25,
          26,
          27,
          28,
          29,
          30,
          31,
          32,
          33,
          34,
          35,
          36,
          37,
          38,
          39,
          40,
          41,
          42,
          43,
          44,
          45,
          46,
          47,
          48,
          49,
          50,
          51,
          52,
          53,
          54,
          55,
          56,
          57,
          58,
          59,
          60,
          61,
          62,
          63,
          64,
          65,
          66,
          67,
          68,
          69,
          70,
          71,
          72,
          73,
          74,
          75,
          76,
          77,
          78,
          79,
          80,
          81,
          82,
          83,
          84,
          85,
          86,
          87,
          88,
          89,
          90,
          91,
          92,
          93,
          94,
          95,
          96,
          97,
          98,
          99,
          100,
          101,
          102,
          103,
          104,
          105,
          106,
          107,
          108,
          109,
          110,
          111,
          112,
          113,
          114,
          115,
          116,
          117,
          118,
          119,
          120,
          121,
          122,
          123,
          124,
          125,
          126,
          127,
          128,
          129,
          130,
          131,
          132,
          133,
          134,
          135,
          136,
          137,
          138,
          139,
          140,
          141,
          142,
          143,
          144,
          145,
          146,
          147,
          148,
          149,
          150
         ],
         "xaxis": "x",
         "y": [
          0.954954981803894,
          0.9506734609603882,
          0.9519222378730774,
          0.9421996474266052,
          0.9317634701728821,
          0.9330122470855713,
          0.9323878288269043,
          0.9224868416786194,
          0.9165997505187988,
          0.9212380647659302,
          0.926233172416687,
          0.9308714866638184,
          0.9359557628631592,
          0.9464811086654663,
          0.9381856918334961,
          0.9408616423606873,
          0.9293550848960876,
          0.9378288984298706,
          0.9304254651069641,
          0.9421996474266052,
          0.9360449314117432,
          0.9292659163475037,
          0.9209704995155334,
          0.9329230189323425,
          0.9397020936012268,
          0.940950870513916,
          0.9380072951316833,
          0.9360449314117432,
          0.9378288984298706,
          0.9415752291679382,
          0.9327446222305298,
          0.948800265789032,
          0.9506734609603882,
          0.9530817866325378,
          0.9365801215171814,
          0.9344393610954285,
          0.9676210880279541,
          0.9439836144447327,
          0.9348853826522827,
          0.9601284265518188,
          0.9399696588516235,
          0.95013827085495,
          0.943091630935669,
          0.9465703368186951,
          0.940950870513916,
          0.9545981884002686,
          0.9511194229125977,
          0.9401480555534363,
          0.9587904810905457,
          0.9569172859191895,
          0.9438052177429199,
          0.9546873569488525,
          0.9464811086654663,
          0.9419320225715637,
          0.9446079730987549,
          0.9379181265830994,
          0.9422888159751892,
          0.9400588870048523,
          0.9411292672157288,
          0.9418428540229797,
          0.9499598741531372,
          0.9467487335205078,
          0.9493354558944702,
          0.9505842328071594,
          0.955668568611145,
          0.955757737159729,
          0.94737309217453,
          0.9526358246803284,
          0.9446079730987549,
          0.9484434723854065,
          0.9630720019340515,
          0.9554009437561035,
          0.955668568611145,
          0.9524574279785156,
          0.9194540977478027,
          0.9358665347099304,
          0.9579876661300659,
          0.9587012529373169,
          0.9371153116226196,
          0.9388101100921631,
          0.9521006345748901,
          0.9623584151268005,
          0.957184910774231,
          0.962715208530426,
          0.970564603805542,
          0.9650343656539917,
          0.969851016998291,
          0.963428795337677,
          0.9521006345748901,
          0.9607528448104858,
          0.9674426913261414,
          0.9605744481086731,
          0.9603068232536316,
          0.9585228562355042,
          0.9645883440971375,
          0.9631611704826355,
          0.9633395671844482,
          0.9598608613014221,
          0.9672642946243286,
          0.9671750664710999,
          0.9655695557594299,
          0.9677102565765381,
          0.9670858979225159,
          0.9653911590576172,
          0.9589688777923584,
          0.9654803276062012,
          0.9630720019340515,
          0.9683346748352051,
          0.9730621576309204,
          0.9665507078170776,
          0.962001621723175,
          0.9650343656539917,
          0.9612880349159241,
          0.9669075012207031,
          0.9723485708236694,
          0.9699402451515198,
          0.963517963886261,
          0.9688698649406433,
          0.9611096382141113,
          0.9656587243080139,
          0.9651235342025757,
          0.9694942235946655,
          0.9758273363113403,
          0.9684238433837891,
          0.9615556001663208,
          0.9670858979225159,
          0.9695834517478943,
          0.9702078104019165,
          0.9636963605880737,
          0.9659263491630554,
          0.9739541411399841,
          0.9664615392684937,
          0.971278190612793,
          0.9678886532783508,
          0.9643207788467407,
          0.9702970385551453,
          0.9657479524612427,
          0.9665507078170776,
          0.9678886532783508,
          0.9647667407989502,
          0.9664615392684937,
          0.962090790271759,
          0.9653019309043884,
          0.9637855887413025,
          0.9622691869735718,
          0.964142382144928,
          0.9686022400856018,
          0.96913743019104,
          0.9683346748352051,
          0.9644991755485535
         ],
         "yaxis": "y"
        },
        {
         "hovertemplate": "Epoch: %{x}<br>Value: %{y}",
         "legendgroup": "<b>Validation</b>",
         "line": {
          "color": "red",
          "dash": "dot",
          "shape": "spline",
          "smoothing": 0.8
         },
         "marker": {
          "color": "red"
         },
         "mode": "markers+lines",
         "name": "<b>Validation</b>",
         "type": "scatter",
         "x": [
          1,
          2,
          3,
          4,
          5,
          6,
          7,
          8,
          9,
          10,
          11,
          12,
          13,
          14,
          15,
          16,
          17,
          18,
          19,
          20,
          21,
          22,
          23,
          24,
          25,
          26,
          27,
          28,
          29,
          30,
          31,
          32,
          33,
          34,
          35,
          36,
          37,
          38,
          39,
          40,
          41,
          42,
          43,
          44,
          45,
          46,
          47,
          48,
          49,
          50,
          51,
          52,
          53,
          54,
          55,
          56,
          57,
          58,
          59,
          60,
          61,
          62,
          63,
          64,
          65,
          66,
          67,
          68,
          69,
          70,
          71,
          72,
          73,
          74,
          75,
          76,
          77,
          78,
          79,
          80,
          81,
          82,
          83,
          84,
          85,
          86,
          87,
          88,
          89,
          90,
          91,
          92,
          93,
          94,
          95,
          96,
          97,
          98,
          99,
          100,
          101,
          102,
          103,
          104,
          105,
          106,
          107,
          108,
          109,
          110,
          111,
          112,
          113,
          114,
          115,
          116,
          117,
          118,
          119,
          120,
          121,
          122,
          123,
          124,
          125,
          126,
          127,
          128,
          129,
          130,
          131,
          132,
          133,
          134,
          135,
          136,
          137,
          138,
          139,
          140,
          141,
          142,
          143,
          144,
          145,
          146,
          147,
          148,
          149,
          150
         ],
         "xaxis": "x",
         "y": [
          0.11058903485536575,
          0.11058903485536575,
          0.11058903485536575,
          0.11058903485536575,
          0.11058903485536575,
          0.11058903485536575,
          0.11058903485536575,
          0.11045284569263458,
          0.11058903485536575,
          0.11058903485536575,
          0.11058903485536575,
          0.11058903485536575,
          0.11058903485536575,
          0.11058903485536575,
          0.11058903485536575,
          0.11065713316202164,
          0.11045284569263458,
          0.11065713316202164,
          0.11065713316202164,
          0.11031664907932281,
          0.11045284569263458,
          0.11133810132741928,
          0.11487913131713867,
          0.11147429049015045,
          0.11133810132741928,
          0.11399386823177338,
          0.1182839646935463,
          0.1195778027176857,
          0.11569628864526749,
          0.12148451060056686,
          0.13292475044727325,
          0.12277834862470627,
          0.1257065087556839,
          0.13415049016475677,
          0.12400408834218979,
          0.13033707439899445,
          0.13598909974098206,
          0.15566904842853546,
          0.16629213094711304,
          0.15321756899356842,
          0.16104869544506073,
          0.17541709542274475,
          0.1690841019153595,
          0.1818181872367859,
          0.1852911114692688,
          0.1598229557275772,
          0.16493019461631775,
          0.1866530478000641,
          0.1879468858242035,
          0.19741232693195343,
          0.19741232693195343,
          0.22941777110099792,
          0.2185903936624527,
          0.14593122899532318,
          0.15444330871105194,
          0.20558393001556396,
          0.22410623729228973,
          0.23622743785381317,
          0.27524685859680176,
          0.27129724621772766,
          0.308818519115448,
          0.3210759162902832,
          0.25468164682388306,
          0.323323130607605,
          0.3363976776599884,
          0.32529792189598083,
          0.2343888282775879,
          0.21096356213092804,
          0.2071501463651657,
          0.1835206001996994,
          0.27436158061027527,
          0.2903643250465393,
          0.31991827487945557,
          0.30282601714134216,
          0.27129724621772766,
          0.24514810740947723,
          0.3319714069366455,
          0.3156962990760803,
          0.3359891176223755,
          0.3354443311691284,
          0.30589035153388977,
          0.27442967891693115,
          0.3605039119720459,
          0.3346271812915802,
          0.37916240096092224,
          0.3743956387042999,
          0.2874361574649811,
          0.3490636646747589,
          0.346544086933136,
          0.3868573307991028,
          0.39625468850135803,
          0.37997958064079285,
          0.3067075312137604,
          0.33094996213912964,
          0.378345251083374,
          0.40667349100112915,
          0.3951651453971863,
          0.37289750576019287,
          0.3801157772541046,
          0.43220973014831543,
          0.3636363744735718,
          0.4251957833766937,
          0.4196799397468567,
          0.36683690547943115,
          0.3912155330181122,
          0.41586652398109436,
          0.43697649240493774,
          0.427511066198349,
          0.3938713073730469,
          0.41845420002937317,
          0.4243105351924896,
          0.37950289249420166,
          0.42369765043258667,
          0.47020769119262695,
          0.45617976784706116,
          0.4629213511943817,
          0.41069117188453674,
          0.38086482882499695,
          0.4209737777709961,
          0.45978888869285583,
          0.43643173575401306,
          0.46319374442100525,
          0.4738849103450775,
          0.43833842873573303,
          0.49560776352882385,
          0.42723867297172546,
          0.43690842390060425,
          0.44998297095298767,
          0.31950971484184265,
          0.41273409128189087,
          0.4361593425273895,
          0.44303712248802185,
          0.4887980818748474,
          0.4848484992980957,
          0.5184882283210754,
          0.4922710359096527,
          0.525229811668396,
          0.47245487570762634,
          0.45754170417785645,
          0.49438202381134033,
          0.4971058964729309,
          0.46843719482421875,
          0.5156282186508179,
          0.5302008986473083,
          0.5226421356201172,
          0.5202587842941284,
          0.5387810468673706,
          0.5477017164230347,
          0.5420497059822083,
          0.5255022048950195
         ],
         "yaxis": "y"
        },
        {
         "hovertemplate": "Epoch: %{x}<br>Value: %{y}",
         "legendgroup": "<b>Training</b>",
         "line": {
          "color": "#636efb",
          "shape": "spline",
          "smoothing": 0.8
         },
         "marker": {
          "color": "#636efb"
         },
         "mode": "markers+lines",
         "name": "<b>Training</b>",
         "showlegend": false,
         "type": "scatter",
         "x": [
          1,
          2,
          3,
          4,
          5,
          6,
          7,
          8,
          9,
          10,
          11,
          12,
          13,
          14,
          15,
          16,
          17,
          18,
          19,
          20,
          21,
          22,
          23,
          24,
          25,
          26,
          27,
          28,
          29,
          30,
          31,
          32,
          33,
          34,
          35,
          36,
          37,
          38,
          39,
          40,
          41,
          42,
          43,
          44,
          45,
          46,
          47,
          48,
          49,
          50,
          51,
          52,
          53,
          54,
          55,
          56,
          57,
          58,
          59,
          60,
          61,
          62,
          63,
          64,
          65,
          66,
          67,
          68,
          69,
          70,
          71,
          72,
          73,
          74,
          75,
          76,
          77,
          78,
          79,
          80,
          81,
          82,
          83,
          84,
          85,
          86,
          87,
          88,
          89,
          90,
          91,
          92,
          93,
          94,
          95,
          96,
          97,
          98,
          99,
          100,
          101,
          102,
          103,
          104,
          105,
          106,
          107,
          108,
          109,
          110,
          111,
          112,
          113,
          114,
          115,
          116,
          117,
          118,
          119,
          120,
          121,
          122,
          123,
          124,
          125,
          126,
          127,
          128,
          129,
          130,
          131,
          132,
          133,
          134,
          135,
          136,
          137,
          138,
          139,
          140,
          141,
          142,
          143,
          144,
          145,
          146,
          147,
          148,
          149,
          150
         ],
         "xaxis": "x2",
         "y": [
          0.8377446532249451,
          0.6157167553901672,
          0.46321794390678406,
          0.465257853269577,
          0.6852317452430725,
          0.64234858751297,
          0.7891319990158081,
          0.7005150318145752,
          0.7977060079574585,
          0.7259992361068726,
          0.659111499786377,
          0.46720990538597107,
          0.5270150899887085,
          0.4479058086872101,
          0.34603121876716614,
          0.3718186914920807,
          0.553394079208374,
          0.5113105773925781,
          0.5979760885238647,
          0.4365820288658142,
          0.40922585129737854,
          0.4389282464981079,
          0.3829440772533417,
          0.531737744808197,
          0.43732690811157227,
          0.6353538036346436,
          0.38929155468940735,
          0.389445960521698,
          0.3266315758228302,
          0.3728460371494293,
          0.3874960243701935,
          0.31936535239219666,
          0.4952753186225891,
          0.3642534017562866,
          0.22570231556892395,
          0.2505730390548706,
          0.29132795333862305,
          0.1949610710144043,
          0.20319773256778717,
          0.3554918169975281,
          0.19357287883758545,
          0.2815295159816742,
          0.1804291158914566,
          0.21567995846271515,
          0.2439911961555481,
          0.27070873975753784,
          0.24087676405906677,
          0.2301730215549469,
          0.23160280287265778,
          0.23710565268993378,
          0.11586928367614746,
          0.23403383791446686,
          0.2772124111652374,
          0.172979474067688,
          0.2939865291118622,
          0.3548312187194824,
          0.1863473504781723,
          0.1623748540878296,
          0.22644995152950287,
          0.12345914542675018,
          0.14140106737613678,
          0.14741724729537964,
          0.2950296103954315,
          0.1918421983718872,
          0.1274939626455307,
          0.12088743597269058,
          0.1587705910205841,
          0.2127477526664734,
          0.17833517491817474,
          0.20237605273723602,
          0.30320215225219727,
          0.15256255865097046,
          0.13408204913139343,
          0.12540225684642792,
          0.19024595618247986,
          0.1370416134595871,
          0.24606086313724518,
          0.16458266973495483,
          0.14271360635757446,
          0.2575092911720276,
          0.1699940413236618,
          0.14940135180950165,
          0.13061462342739105,
          0.18441149592399597,
          0.1633870005607605,
          0.10376826673746109,
          0.11283501237630844,
          0.11067942529916763,
          0.14030717313289642,
          0.17755652964115143,
          0.08533509820699692,
          0.19137343764305115,
          0.23263788223266602,
          0.13583222031593323,
          0.15739230811595917,
          0.16201049089431763,
          0.12534262239933014,
          0.09905827045440674,
          0.0840250551700592,
          0.09901021420955658,
          0.08482780307531357,
          0.09638459980487823,
          0.13107161223888397,
          0.09463511407375336,
          0.13326513767242432,
          0.08381699025630951,
          0.10045386105775833,
          0.08106029033660889,
          0.16437317430973053,
          0.12224491685628891,
          0.12629035115242004,
          0.12872593104839325,
          0.0918334573507309,
          0.08367576450109482,
          0.07436002045869827,
          0.08071160316467285,
          0.09238487482070923,
          0.08550175279378891,
          0.10523674637079239,
          0.09780993312597275,
          0.0933697447180748,
          0.07873840630054474,
          0.08859968930482864,
          0.09016627818346024,
          0.1618931144475937,
          0.08008895069360733,
          0.07571988552808762,
          0.07074245810508728,
          0.16238203644752502,
          0.10732490569353104,
          0.22011511027812958,
          0.09047557413578033,
          0.09142173826694489,
          0.08295978605747223,
          0.09445885568857193,
          0.11385990679264069,
          0.08741196990013123,
          0.10117748379707336,
          0.25594544410705566,
          0.14235416054725647,
          0.1271950751543045,
          0.1015760526061058,
          0.09206267446279526,
          0.104705810546875,
          0.09891531616449356,
          0.09582789242267609,
          0.09768713265657425,
          0.1193726658821106,
          0.08390071243047714,
          0.10603010654449463
         ],
         "yaxis": "y2"
        },
        {
         "hovertemplate": "Epoch: %{x}<br>Value: %{y}",
         "legendgroup": "<b>Validation</b>",
         "line": {
          "color": "red",
          "dash": "dot",
          "shape": "spline",
          "smoothing": 0.8
         },
         "marker": {
          "color": "red"
         },
         "mode": "markers+lines",
         "name": "<b>Validation</b>",
         "showlegend": false,
         "type": "scatter",
         "x": [
          1,
          2,
          3,
          4,
          5,
          6,
          7,
          8,
          9,
          10,
          11,
          12,
          13,
          14,
          15,
          16,
          17,
          18,
          19,
          20,
          21,
          22,
          23,
          24,
          25,
          26,
          27,
          28,
          29,
          30,
          31,
          32,
          33,
          34,
          35,
          36,
          37,
          38,
          39,
          40,
          41,
          42,
          43,
          44,
          45,
          46,
          47,
          48,
          49,
          50,
          51,
          52,
          53,
          54,
          55,
          56,
          57,
          58,
          59,
          60,
          61,
          62,
          63,
          64,
          65,
          66,
          67,
          68,
          69,
          70,
          71,
          72,
          73,
          74,
          75,
          76,
          77,
          78,
          79,
          80,
          81,
          82,
          83,
          84,
          85,
          86,
          87,
          88,
          89,
          90,
          91,
          92,
          93,
          94,
          95,
          96,
          97,
          98,
          99,
          100,
          101,
          102,
          103,
          104,
          105,
          106,
          107,
          108,
          109,
          110,
          111,
          112,
          113,
          114,
          115,
          116,
          117,
          118,
          119,
          120,
          121,
          122,
          123,
          124,
          125,
          126,
          127,
          128,
          129,
          130,
          131,
          132,
          133,
          134,
          135,
          136,
          137,
          138,
          139,
          140,
          141,
          142,
          143,
          144,
          145,
          146,
          147,
          148,
          149,
          150
         ],
         "xaxis": "x2",
         "y": [
          9.63811206817627,
          12.48642635345459,
          11.192790985107422,
          14.37968921661377,
          13.862318992614746,
          17.351884841918945,
          14.695650100708008,
          14.86600399017334,
          15.726391792297363,
          17.883703231811523,
          15.726752281188965,
          18.496112823486328,
          16.96489906311035,
          18.254907608032227,
          14.09714412689209,
          14.237759590148926,
          15.158564567565918,
          15.245319366455078,
          14.130841255187988,
          16.603925704956055,
          16.261106491088867,
          15.466522216796875,
          12.504249572753906,
          13.807242393493652,
          17.444128036499023,
          14.90615463256836,
          14.073141098022461,
          12.478710174560547,
          13.924552917480469,
          14.387415885925293,
          13.400162696838379,
          13.961435317993164,
          13.57463550567627,
          12.466277122497559,
          14.970589637756348,
          14.5582857131958,
          12.361839294433594,
          12.057513236999512,
          10.689583778381348,
          11.146693229675293,
          11.524433135986328,
          10.71630573272705,
          11.389280319213867,
          11.518574714660645,
          9.67277717590332,
          12.441802024841309,
          11.830570220947266,
          10.442931175231934,
          11.142727851867676,
          10.9344482421875,
          10.69182014465332,
          9.884987831115723,
          11.485258102416992,
          13.72196102142334,
          15.41636848449707,
          13.046212196350098,
          11.06881046295166,
          10.69807243347168,
          9.757569313049316,
          10.163137435913086,
          8.350889205932617,
          7.892470836639404,
          10.008477210998535,
          8.047576904296875,
          7.795701503753662,
          8.105995178222656,
          10.795184135437012,
          13.050555229187012,
          14.180254936218262,
          13.09444522857666,
          10.829804420471191,
          9.744255065917969,
          8.892815589904785,
          9.210075378417969,
          11.704784393310547,
          12.255008697509766,
          9.857358932495117,
          9.718721389770508,
          8.917220115661621,
          8.730316162109375,
          10.226579666137695,
          11.652292251586914,
          8.458125114440918,
          11.152772903442383,
          8.652913093566895,
          9.356233596801758,
          11.31317138671875,
          8.993460655212402,
          9.68431282043457,
          8.544675827026367,
          9.0901460647583,
          8.843852043151855,
          11.900139808654785,
          11.820310592651367,
          9.512977600097656,
          9.163649559020996,
          9.000285148620605,
          9.776764869689941,
          10.374767303466797,
          8.422252655029297,
          11.11829948425293,
          9.634049415588379,
          9.080166816711426,
          10.961373329162598,
          9.933023452758789,
          10.028841018676758,
          8.923572540283203,
          9.6950101852417,
          10.735451698303223,
          9.560163497924805,
          9.287808418273926,
          11.031420707702637,
          9.817030906677246,
          8.448956489562988,
          9.14551830291748,
          9.012336730957031,
          10.581235885620117,
          10.99604606628418,
          9.523736000061035,
          8.864567756652832,
          9.721866607666016,
          9.141185760498047,
          8.706422805786133,
          10.697420120239258,
          8.238296508789062,
          10.48202896118164,
          10.382476806640625,
          10.068306922912598,
          15.207235336303711,
          10.620529174804688,
          10.046335220336914,
          10.069786071777344,
          9.2693510055542,
          9.032122611999512,
          8.210317611694336,
          8.760799407958984,
          7.890951633453369,
          10.085034370422363,
          11.113187789916992,
          8.736247062683105,
          8.61584758758545,
          9.709765434265137,
          8.297293663024902,
          7.956023693084717,
          7.856185436248779,
          8.734249114990234,
          8.129250526428223,
          8.13526439666748,
          7.95731782913208,
          8.379969596862793
         ],
         "yaxis": "y2"
        }
       ],
       "layout": {
        "annotations": [
         {
          "font": {
           "size": 16
          },
          "showarrow": false,
          "text": "<b>Accuracy</b>",
          "x": 0.2375,
          "xanchor": "center",
          "xref": "paper",
          "y": 1,
          "yanchor": "bottom",
          "yref": "paper"
         },
         {
          "font": {
           "size": 16
          },
          "showarrow": false,
          "text": "<b>Loss</b>",
          "x": 0.7625,
          "xanchor": "center",
          "xref": "paper",
          "y": 1,
          "yanchor": "bottom",
          "yref": "paper"
         }
        ],
        "height": 550,
        "legend": {
         "bgcolor": "rgba(240, 240, 240, 0.5)",
         "bordercolor": "rgba(200, 200, 200, 1)",
         "borderwidth": 1,
         "font": {
          "size": 14
         }
        },
        "plot_bgcolor": "rgba(210, 210, 210, 0.5)",
        "template": {
         "data": {
          "bar": [
           {
            "error_x": {
             "color": "#2a3f5f"
            },
            "error_y": {
             "color": "#2a3f5f"
            },
            "marker": {
             "line": {
              "color": "#E5ECF6",
              "width": 0.5
             },
             "pattern": {
              "fillmode": "overlay",
              "size": 10,
              "solidity": 0.2
             }
            },
            "type": "bar"
           }
          ],
          "barpolar": [
           {
            "marker": {
             "line": {
              "color": "#E5ECF6",
              "width": 0.5
             },
             "pattern": {
              "fillmode": "overlay",
              "size": 10,
              "solidity": 0.2
             }
            },
            "type": "barpolar"
           }
          ],
          "carpet": [
           {
            "aaxis": {
             "endlinecolor": "#2a3f5f",
             "gridcolor": "white",
             "linecolor": "white",
             "minorgridcolor": "white",
             "startlinecolor": "#2a3f5f"
            },
            "baxis": {
             "endlinecolor": "#2a3f5f",
             "gridcolor": "white",
             "linecolor": "white",
             "minorgridcolor": "white",
             "startlinecolor": "#2a3f5f"
            },
            "type": "carpet"
           }
          ],
          "choropleth": [
           {
            "colorbar": {
             "outlinewidth": 0,
             "ticks": ""
            },
            "type": "choropleth"
           }
          ],
          "contour": [
           {
            "colorbar": {
             "outlinewidth": 0,
             "ticks": ""
            },
            "colorscale": [
             [
              0,
              "#0d0887"
             ],
             [
              0.1111111111111111,
              "#46039f"
             ],
             [
              0.2222222222222222,
              "#7201a8"
             ],
             [
              0.3333333333333333,
              "#9c179e"
             ],
             [
              0.4444444444444444,
              "#bd3786"
             ],
             [
              0.5555555555555556,
              "#d8576b"
             ],
             [
              0.6666666666666666,
              "#ed7953"
             ],
             [
              0.7777777777777778,
              "#fb9f3a"
             ],
             [
              0.8888888888888888,
              "#fdca26"
             ],
             [
              1,
              "#f0f921"
             ]
            ],
            "type": "contour"
           }
          ],
          "contourcarpet": [
           {
            "colorbar": {
             "outlinewidth": 0,
             "ticks": ""
            },
            "type": "contourcarpet"
           }
          ],
          "heatmap": [
           {
            "colorbar": {
             "outlinewidth": 0,
             "ticks": ""
            },
            "colorscale": [
             [
              0,
              "#0d0887"
             ],
             [
              0.1111111111111111,
              "#46039f"
             ],
             [
              0.2222222222222222,
              "#7201a8"
             ],
             [
              0.3333333333333333,
              "#9c179e"
             ],
             [
              0.4444444444444444,
              "#bd3786"
             ],
             [
              0.5555555555555556,
              "#d8576b"
             ],
             [
              0.6666666666666666,
              "#ed7953"
             ],
             [
              0.7777777777777778,
              "#fb9f3a"
             ],
             [
              0.8888888888888888,
              "#fdca26"
             ],
             [
              1,
              "#f0f921"
             ]
            ],
            "type": "heatmap"
           }
          ],
          "histogram": [
           {
            "marker": {
             "pattern": {
              "fillmode": "overlay",
              "size": 10,
              "solidity": 0.2
             }
            },
            "type": "histogram"
           }
          ],
          "histogram2d": [
           {
            "colorbar": {
             "outlinewidth": 0,
             "ticks": ""
            },
            "colorscale": [
             [
              0,
              "#0d0887"
             ],
             [
              0.1111111111111111,
              "#46039f"
             ],
             [
              0.2222222222222222,
              "#7201a8"
             ],
             [
              0.3333333333333333,
              "#9c179e"
             ],
             [
              0.4444444444444444,
              "#bd3786"
             ],
             [
              0.5555555555555556,
              "#d8576b"
             ],
             [
              0.6666666666666666,
              "#ed7953"
             ],
             [
              0.7777777777777778,
              "#fb9f3a"
             ],
             [
              0.8888888888888888,
              "#fdca26"
             ],
             [
              1,
              "#f0f921"
             ]
            ],
            "type": "histogram2d"
           }
          ],
          "histogram2dcontour": [
           {
            "colorbar": {
             "outlinewidth": 0,
             "ticks": ""
            },
            "colorscale": [
             [
              0,
              "#0d0887"
             ],
             [
              0.1111111111111111,
              "#46039f"
             ],
             [
              0.2222222222222222,
              "#7201a8"
             ],
             [
              0.3333333333333333,
              "#9c179e"
             ],
             [
              0.4444444444444444,
              "#bd3786"
             ],
             [
              0.5555555555555556,
              "#d8576b"
             ],
             [
              0.6666666666666666,
              "#ed7953"
             ],
             [
              0.7777777777777778,
              "#fb9f3a"
             ],
             [
              0.8888888888888888,
              "#fdca26"
             ],
             [
              1,
              "#f0f921"
             ]
            ],
            "type": "histogram2dcontour"
           }
          ],
          "mesh3d": [
           {
            "colorbar": {
             "outlinewidth": 0,
             "ticks": ""
            },
            "type": "mesh3d"
           }
          ],
          "parcoords": [
           {
            "line": {
             "colorbar": {
              "outlinewidth": 0,
              "ticks": ""
             }
            },
            "type": "parcoords"
           }
          ],
          "pie": [
           {
            "automargin": true,
            "type": "pie"
           }
          ],
          "scatter": [
           {
            "fillpattern": {
             "fillmode": "overlay",
             "size": 10,
             "solidity": 0.2
            },
            "type": "scatter"
           }
          ],
          "scatter3d": [
           {
            "line": {
             "colorbar": {
              "outlinewidth": 0,
              "ticks": ""
             }
            },
            "marker": {
             "colorbar": {
              "outlinewidth": 0,
              "ticks": ""
             }
            },
            "type": "scatter3d"
           }
          ],
          "scattercarpet": [
           {
            "marker": {
             "colorbar": {
              "outlinewidth": 0,
              "ticks": ""
             }
            },
            "type": "scattercarpet"
           }
          ],
          "scattergeo": [
           {
            "marker": {
             "colorbar": {
              "outlinewidth": 0,
              "ticks": ""
             }
            },
            "type": "scattergeo"
           }
          ],
          "scattergl": [
           {
            "marker": {
             "colorbar": {
              "outlinewidth": 0,
              "ticks": ""
             }
            },
            "type": "scattergl"
           }
          ],
          "scattermap": [
           {
            "marker": {
             "colorbar": {
              "outlinewidth": 0,
              "ticks": ""
             }
            },
            "type": "scattermap"
           }
          ],
          "scattermapbox": [
           {
            "marker": {
             "colorbar": {
              "outlinewidth": 0,
              "ticks": ""
             }
            },
            "type": "scattermapbox"
           }
          ],
          "scatterpolar": [
           {
            "marker": {
             "colorbar": {
              "outlinewidth": 0,
              "ticks": ""
             }
            },
            "type": "scatterpolar"
           }
          ],
          "scatterpolargl": [
           {
            "marker": {
             "colorbar": {
              "outlinewidth": 0,
              "ticks": ""
             }
            },
            "type": "scatterpolargl"
           }
          ],
          "scatterternary": [
           {
            "marker": {
             "colorbar": {
              "outlinewidth": 0,
              "ticks": ""
             }
            },
            "type": "scatterternary"
           }
          ],
          "surface": [
           {
            "colorbar": {
             "outlinewidth": 0,
             "ticks": ""
            },
            "colorscale": [
             [
              0,
              "#0d0887"
             ],
             [
              0.1111111111111111,
              "#46039f"
             ],
             [
              0.2222222222222222,
              "#7201a8"
             ],
             [
              0.3333333333333333,
              "#9c179e"
             ],
             [
              0.4444444444444444,
              "#bd3786"
             ],
             [
              0.5555555555555556,
              "#d8576b"
             ],
             [
              0.6666666666666666,
              "#ed7953"
             ],
             [
              0.7777777777777778,
              "#fb9f3a"
             ],
             [
              0.8888888888888888,
              "#fdca26"
             ],
             [
              1,
              "#f0f921"
             ]
            ],
            "type": "surface"
           }
          ],
          "table": [
           {
            "cells": {
             "fill": {
              "color": "#EBF0F8"
             },
             "line": {
              "color": "white"
             }
            },
            "header": {
             "fill": {
              "color": "#C8D4E3"
             },
             "line": {
              "color": "white"
             }
            },
            "type": "table"
           }
          ]
         },
         "layout": {
          "annotationdefaults": {
           "arrowcolor": "#2a3f5f",
           "arrowhead": 0,
           "arrowwidth": 1
          },
          "autotypenumbers": "strict",
          "coloraxis": {
           "colorbar": {
            "outlinewidth": 0,
            "ticks": ""
           }
          },
          "colorscale": {
           "diverging": [
            [
             0,
             "#8e0152"
            ],
            [
             0.1,
             "#c51b7d"
            ],
            [
             0.2,
             "#de77ae"
            ],
            [
             0.3,
             "#f1b6da"
            ],
            [
             0.4,
             "#fde0ef"
            ],
            [
             0.5,
             "#f7f7f7"
            ],
            [
             0.6,
             "#e6f5d0"
            ],
            [
             0.7,
             "#b8e186"
            ],
            [
             0.8,
             "#7fbc41"
            ],
            [
             0.9,
             "#4d9221"
            ],
            [
             1,
             "#276419"
            ]
           ],
           "sequential": [
            [
             0,
             "#0d0887"
            ],
            [
             0.1111111111111111,
             "#46039f"
            ],
            [
             0.2222222222222222,
             "#7201a8"
            ],
            [
             0.3333333333333333,
             "#9c179e"
            ],
            [
             0.4444444444444444,
             "#bd3786"
            ],
            [
             0.5555555555555556,
             "#d8576b"
            ],
            [
             0.6666666666666666,
             "#ed7953"
            ],
            [
             0.7777777777777778,
             "#fb9f3a"
            ],
            [
             0.8888888888888888,
             "#fdca26"
            ],
            [
             1,
             "#f0f921"
            ]
           ],
           "sequentialminus": [
            [
             0,
             "#0d0887"
            ],
            [
             0.1111111111111111,
             "#46039f"
            ],
            [
             0.2222222222222222,
             "#7201a8"
            ],
            [
             0.3333333333333333,
             "#9c179e"
            ],
            [
             0.4444444444444444,
             "#bd3786"
            ],
            [
             0.5555555555555556,
             "#d8576b"
            ],
            [
             0.6666666666666666,
             "#ed7953"
            ],
            [
             0.7777777777777778,
             "#fb9f3a"
            ],
            [
             0.8888888888888888,
             "#fdca26"
            ],
            [
             1,
             "#f0f921"
            ]
           ]
          },
          "colorway": [
           "#636efa",
           "#EF553B",
           "#00cc96",
           "#ab63fa",
           "#FFA15A",
           "#19d3f3",
           "#FF6692",
           "#B6E880",
           "#FF97FF",
           "#FECB52"
          ],
          "font": {
           "color": "#2a3f5f"
          },
          "geo": {
           "bgcolor": "white",
           "lakecolor": "white",
           "landcolor": "#E5ECF6",
           "showlakes": true,
           "showland": true,
           "subunitcolor": "white"
          },
          "hoverlabel": {
           "align": "left"
          },
          "hovermode": "closest",
          "mapbox": {
           "style": "light"
          },
          "paper_bgcolor": "white",
          "plot_bgcolor": "#E5ECF6",
          "polar": {
           "angularaxis": {
            "gridcolor": "white",
            "linecolor": "white",
            "ticks": ""
           },
           "bgcolor": "#E5ECF6",
           "radialaxis": {
            "gridcolor": "white",
            "linecolor": "white",
            "ticks": ""
           }
          },
          "scene": {
           "xaxis": {
            "backgroundcolor": "#E5ECF6",
            "gridcolor": "white",
            "gridwidth": 2,
            "linecolor": "white",
            "showbackground": true,
            "ticks": "",
            "zerolinecolor": "white"
           },
           "yaxis": {
            "backgroundcolor": "#E5ECF6",
            "gridcolor": "white",
            "gridwidth": 2,
            "linecolor": "white",
            "showbackground": true,
            "ticks": "",
            "zerolinecolor": "white"
           },
           "zaxis": {
            "backgroundcolor": "#E5ECF6",
            "gridcolor": "white",
            "gridwidth": 2,
            "linecolor": "white",
            "showbackground": true,
            "ticks": "",
            "zerolinecolor": "white"
           }
          },
          "shapedefaults": {
           "line": {
            "color": "#2a3f5f"
           }
          },
          "ternary": {
           "aaxis": {
            "gridcolor": "white",
            "linecolor": "white",
            "ticks": ""
           },
           "baxis": {
            "gridcolor": "white",
            "linecolor": "white",
            "ticks": ""
           },
           "bgcolor": "#E5ECF6",
           "caxis": {
            "gridcolor": "white",
            "linecolor": "white",
            "ticks": ""
           }
          },
          "title": {
           "x": 0.05
          },
          "xaxis": {
           "automargin": true,
           "gridcolor": "white",
           "linecolor": "white",
           "ticks": "",
           "title": {
            "standoff": 15
           },
           "zerolinecolor": "white",
           "zerolinewidth": 2
          },
          "yaxis": {
           "automargin": true,
           "gridcolor": "white",
           "linecolor": "white",
           "ticks": "",
           "title": {
            "standoff": 15
           },
           "zerolinecolor": "white",
           "zerolinewidth": 2
          }
         }
        },
        "title": {
         "text": "<b>Метрики обучения</b>"
        },
        "width": 2000,
        "xaxis": {
         "anchor": "y",
         "domain": [
          0,
          0.475
         ],
         "range": [
          0.5,
          150.3
         ],
         "title": {
          "text": "<b>Эпохи</b>"
         }
        },
        "xaxis2": {
         "anchor": "y2",
         "domain": [
          0.525,
          1
         ],
         "range": [
          0.5,
          150.3
         ],
         "title": {
          "text": "<b>Эпохи</b>"
         }
        },
        "yaxis": {
         "anchor": "x",
         "domain": [
          0,
          1
         ],
         "title": {
          "text": "<b>Показатели</b>"
         }
        },
        "yaxis2": {
         "anchor": "x2",
         "domain": [
          0,
          1
         ],
         "title": {
          "text": "<b>Показатели</b>"
         }
        }
       }
      }
     },
     "metadata": {},
     "output_type": "display_data"
    }
   ],
   "source": [
    "import plotly.graph_objects as go\n",
    "from plotly.subplots import make_subplots\n",
    "import plotly.offline as py\n",
    "\n",
    "acc_plot = hist.history['accuracy']\n",
    "ls_plot = hist.history['loss']\n",
    "\n",
    "val_acc_plot = hist.history['val_accuracy']\n",
    "\n",
    "val_ls_plot = hist.history['val_loss']\n",
    "epochs = list(range(1, len(acc_plot) + 1))\n",
    "\n",
    "fig = make_subplots(rows=1, cols=2, subplot_titles=(\"<b>Accuracy</b>\", \"<b>Loss</b>\",), horizontal_spacing=0.05)\n",
    "\n",
    "# Accuracy\n",
    "fig.add_trace(go.Scatter(x=list(epochs), y=acc_plot, legendgroup='<b>Training</b>', name='<b>Training</b>',\n",
    "                            line=dict(shape='spline', smoothing=0.8, color='#636efb'), mode='markers+lines', marker=dict(color='#636efb')), row=1, col=1)\n",
    "fig.add_trace(go.Scatter(x=list(epochs), y=val_acc_plot, legendgroup='<b>Validation</b>', name='<b>Validation</b>',\n",
    "                            line=dict(shape='spline', smoothing=0.8, dash='dot', color='red'), mode='markers+lines', marker=dict(color='red')), row=1, col=1)\n",
    "\n",
    "# Loss\n",
    "fig.add_trace(go.Scatter(x=list(epochs), y=ls_plot, legendgroup='<b>Training</b>', name='<b>Training</b>', showlegend=False,\n",
    "                            line=dict(shape='spline', smoothing=0.8, color='#636efb'), mode='markers+lines', marker=dict(color='#636efb')), row=1, col=2)\n",
    "fig.add_trace(go.Scatter(x=list(epochs), y=val_ls_plot, legendgroup='<b>Validation</b>', name='<b>Validation</b>', showlegend=False,\n",
    "                            line=dict(shape='spline', smoothing=0.8, dash='dot', color='red'), mode='markers+lines', marker=dict(color='red')), row=1, col=2)\n",
    "\n",
    "\n",
    "fig.update_traces(hovertemplate='Epoch: %{x}<br>Value: %{y}')\n",
    "\n",
    "fig.update_yaxes(title_text=\"<b>Показатели</b>\")\n",
    "fig.update_xaxes(title_text=\"<b>Эпохи</b>\")\n",
    "fig.update_layout(legend=dict(font=dict(size=14), bgcolor='lightgray'))\n",
    "\n",
    "\n",
    "fig.update_layout(\n",
    "    height=550, \n",
    "    width=2000, \n",
    "    title_text=\"<b>Метрики обучения</b>\",\n",
    "    legend=dict(\n",
    "        font=dict(size=14),\n",
    "        bgcolor='rgba(240, 240, 240, 0.5)',\n",
    "        bordercolor='rgba(200, 200, 200, 1)',\n",
    "        borderwidth=1,\n",
    "    ),\n",
    "    plot_bgcolor='rgba(210, 210, 210, 0.5)',\n",
    "    \n",
    "    # paper_bgcolor='rgba(250, 250, 250, 1)'\n",
    ")\n",
    "fig.update_xaxes(range=[0.5, max(epochs)+0.3])\n",
    "py.plot(fig, filename=r'C:\\My_projects\\nuke\\metrics\\plotly\\YAMNet_metrics_accuracy_and_loss.html')\n",
    "fig.write_image(r\"C:\\My_projects\\nuke\\metrics\\plotly\\YAMNet_metrics_accuracy_and_loss.svg\")\n",
    "fig.show()"
   ]
  },
  {
   "cell_type": "code",
   "execution_count": 58,
   "metadata": {},
   "outputs": [
    {
     "data": {
      "image/png": "[encoded data removed]",
      "text/plain": [
       "<Figure size 640x480 with 1 Axes>"
      ]
     },
     "metadata": {},
     "output_type": "display_data"
    }
   ],
   "source": [
    "import numpy as np\n",
    "import tensorflow as tf\n",
    "from sklearn.metrics import confusion_matrix\n",
    "import seaborn as sns\n",
    "y_true = []\n",
    "for _, y in test_ds:\n",
    "    y_true.extend(y.numpy())\n",
    "\n",
    "y_predicted = FineTuned.predict(test_ds)\n",
    "\n",
    "class_labels = ['Выстрелы', 'Фейерверки', 'Другие']\n",
    "mat = confusion_matrix(np.array(y_true), np.argmax(y_predicted, axis=1))\n",
    "sns.heatmap(mat, square=True, annot=True, fmt='d', cbar=False, cmap='Blues',\n",
    "            xticklabels=class_labels,\n",
    "            yticklabels=class_labels)\n",
    "\n",
    "plt.xlabel('Предсказанные значения')\n",
    "plt.ylabel('Реальные значения')\n",
    "plt.savefig(r'C:\\My_projects\\nuke\\metrics\\confusion_matrix_YAMNet.png')"
   ]
  }
 ],
 "metadata": {
  "kernelspec": {
   "display_name": "protect_of_terrorist_attacks",
   "language": "python",
   "name": "python3"
  },
  "language_info": {
   "codemirror_mode": {
    "name": "ipython",
    "version": 3
   },
   "file_extension": ".py",
   "mimetype": "text/x-python",
   "name": "python",
   "nbconvert_exporter": "python",
   "pygments_lexer": "ipython3",
   "version": "3.10.16"
  }
 },
 "nbformat": 4,
 "nbformat_minor": 2
}
